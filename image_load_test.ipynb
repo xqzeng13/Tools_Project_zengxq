{
 "cells": [
  {
   "cell_type": "markdown",
   "source": [
    "TODO 打开.h5文件"
   ],
   "metadata": {
    "collapsed": false,
    "pycharm": {
     "name": "#%% md\n"
    }
   }
  },
  {
   "cell_type": "code",
   "execution_count": 1,
   "outputs": [
    {
     "ename": "KeyboardInterrupt",
     "evalue": "",
     "output_type": "error",
     "traceback": [
      "\u001B[1;31m---------------------------------------------------------------------------\u001B[0m",
      "\u001B[1;31mKeyboardInterrupt\u001B[0m                         Traceback (most recent call last)",
      "Input \u001B[1;32mIn [1]\u001B[0m, in \u001B[0;36m<cell line: 9>\u001B[1;34m()\u001B[0m\n\u001B[0;32m      7\u001B[0m \u001B[38;5;28;01mimport\u001B[39;00m \u001B[38;5;21;01mSimpleITK\u001B[39;00m \u001B[38;5;28;01mas\u001B[39;00m \u001B[38;5;21;01msitk\u001B[39;00m\n\u001B[0;32m      8\u001B[0m \u001B[38;5;28;01mimport\u001B[39;00m \u001B[38;5;21;01mnrrd\u001B[39;00m\n\u001B[1;32m----> 9\u001B[0m \u001B[38;5;28;01mimport\u001B[39;00m \u001B[38;5;21;01mtorch\u001B[39;00m\n\u001B[0;32m     10\u001B[0m \u001B[38;5;66;03m# import nibabel as nib\u001B[39;00m\n\u001B[0;32m     11\u001B[0m \u001B[38;5;28;01mimport\u001B[39;00m \u001B[38;5;21;01mmonai\u001B[39;00m\u001B[38;5;21;01m.\u001B[39;00m\u001B[38;5;21;01mtransforms\u001B[39;00m \u001B[38;5;28;01mas\u001B[39;00m \u001B[38;5;21;01mtransforms\u001B[39;00m\n",
      "File \u001B[1;32mD:\\anaconda\\envs\\3DUnet\\lib\\site-packages\\torch\\__init__.py:119\u001B[0m, in \u001B[0;36m<module>\u001B[1;34m\u001B[0m\n\u001B[0;32m    117\u001B[0m is_loaded \u001B[38;5;241m=\u001B[39m \u001B[38;5;28;01mFalse\u001B[39;00m\n\u001B[0;32m    118\u001B[0m \u001B[38;5;28;01mif\u001B[39;00m with_load_library_flags:\n\u001B[1;32m--> 119\u001B[0m     res \u001B[38;5;241m=\u001B[39m \u001B[43mkernel32\u001B[49m\u001B[38;5;241;43m.\u001B[39;49m\u001B[43mLoadLibraryExW\u001B[49m\u001B[43m(\u001B[49m\u001B[43mdll\u001B[49m\u001B[43m,\u001B[49m\u001B[43m \u001B[49m\u001B[38;5;28;43;01mNone\u001B[39;49;00m\u001B[43m,\u001B[49m\u001B[43m \u001B[49m\u001B[38;5;241;43m0x00001100\u001B[39;49m\u001B[43m)\u001B[49m\n\u001B[0;32m    120\u001B[0m     last_error \u001B[38;5;241m=\u001B[39m ctypes\u001B[38;5;241m.\u001B[39mget_last_error()\n\u001B[0;32m    121\u001B[0m     \u001B[38;5;28;01mif\u001B[39;00m res \u001B[38;5;129;01mis\u001B[39;00m \u001B[38;5;28;01mNone\u001B[39;00m \u001B[38;5;129;01mand\u001B[39;00m last_error \u001B[38;5;241m!=\u001B[39m \u001B[38;5;241m126\u001B[39m:\n",
      "\u001B[1;31mKeyboardInterrupt\u001B[0m: "
     ]
    }
   ],
   "source": [
    "import h5py\n",
    "import numpy as np\n",
    "import nibabel as nib\n",
    "import glob as glob\n",
    "import os\n",
    "from tqdmtqdm import tqdm\n",
    "import SimpleITK as sitk\n",
    "import nrrd\n",
    "import torch\n",
    "# import nibabel as nib\n",
    "import monai.transforms as transforms\n",
    "import monai"
   ],
   "metadata": {
    "collapsed": false,
    "pycharm": {
     "name": "#%%\n"
    }
   }
  },
  {
   "cell_type": "code",
   "execution_count": 88,
   "outputs": [
    {
     "ename": "KeyError",
     "evalue": "'extra_info'",
     "output_type": "error",
     "traceback": [
      "\u001B[1;31m---------------------------------------------------------------------------\u001B[0m",
      "\u001B[1;31mKeyError\u001B[0m                                  Traceback (most recent call last)",
      "Input \u001B[1;32mIn [88]\u001B[0m, in \u001B[0;36m<cell line: 23>\u001B[1;34m()\u001B[0m\n\u001B[0;32m     19\u001B[0m data_dict \u001B[38;5;241m=\u001B[39m cropper(data_dict)\n\u001B[0;32m     21\u001B[0m \u001B[38;5;66;03m# Get end coordinate\u001B[39;00m\n\u001B[0;32m     22\u001B[0m \u001B[38;5;66;03m# end_coord = data_dict[\"end_coord\"]\u001B[39;00m\n\u001B[1;32m---> 23\u001B[0m end_coord \u001B[38;5;241m=\u001B[39m \u001B[43mdata_dict\u001B[49m\u001B[43m[\u001B[49m\u001B[38;5;124;43m'\u001B[39;49m\u001B[38;5;124;43mextra_info\u001B[39;49m\u001B[38;5;124;43m'\u001B[39;49m\u001B[43m]\u001B[49m [\u001B[38;5;124m'\u001B[39m\u001B[38;5;124mbox_start\u001B[39m\u001B[38;5;124m'\u001B[39m]\n\u001B[0;32m     24\u001B[0m \u001B[38;5;28mprint\u001B[39m(\u001B[38;5;124m\"\u001B[39m\u001B[38;5;124mEnd Coordinate: \u001B[39m\u001B[38;5;124m\"\u001B[39m, end_coord)\n",
      "\u001B[1;31mKeyError\u001B[0m: 'extra_info'"
     ]
    }
   ],
   "source": [
    "import monai.transforms as transforms\n",
    "\n",
    "# Load Nifti image\n",
    "nifti_img = nib.load(r\"G:\\asim\\BRATS\\input_28\\pred\\FLARE23_0001.h5\")\n",
    "image = nifti_img.get_fdata()\n",
    "\n",
    "# Convert image to PyTorch tensor\n",
    "image = torch.Tensor(image)\n",
    "\n",
    "# Create MONAI transforms\n",
    "cropper = transforms.CropForegroundd(keys=[\"image\"], source_key='image',meta_keys=[\"end_coord\"])\n",
    "\n",
    "# Create data dictionary\n",
    "data_dict = {\n",
    "    \"image\": image\n",
    "}\n",
    "\n",
    "# Apply transform to data\n",
    "data_dict = cropper(data_dict)\n",
    "\n",
    "# Get end coordinate\n",
    "# end_coord = data_dict[\"end_coord\"]\n",
    "end_coord = data_dict['extra_info'] ['box_start']\n",
    "print(\"End Coordinate: \", end_coord)"
   ],
   "metadata": {
    "collapsed": false,
    "pycharm": {
     "name": "#%%\n"
    }
   }
  },
  {
   "cell_type": "code",
   "execution_count": 21,
   "metadata": {
    "pycharm": {
     "name": "#%%\n"
    }
   },
   "outputs": [],
   "source": [
    "h5f = h5py.File(r'G:\\asim\\BRATS\\input_28\\pred\\FLARE23_0001.h5', 'r')\n",
    "image = h5f['data'][:]\n",
    "label = h5f['label'][:]\n",
    "image=np.array(image,dtype='float32')\n",
    "image=np.flip(image,axis=0)\n",
    "label=np.flip(label,axis=0)\n",
    "\n",
    "# image=image.swapaxes(0, 2)\n",
    "# label=label.swapaxes(0, 2)\n",
    "# 创建NIfTI文件\n",
    "nifti_image = nib.Nifti1Image(image, np.eye(4))\n",
    "\n",
    "# 保存NIfTI文件\n",
    "nib.save(nifti_image, r'G:\\asim\\BRATS\\input_28\\pred\\FLARE23_00012.nii')\n",
    "# 创建NIfTI文件\n",
    "nifti_label = nib.Nifti1Image(label, np.eye(4))\n",
    "\n",
    "# 保存NIfTI文件\n",
    "nib.save(nifti_label, r'G:\\asim\\BRATS\\input_28\\pred\\FLARE23_00012_label.nii')"
   ]
  },
  {
   "cell_type": "markdown",
   "source": [
    "TODO 生成.h5文件"
   ],
   "metadata": {
    "collapsed": false,
    "pycharm": {
     "name": "#%% md\n"
    }
   }
  },
  {
   "cell_type": "code",
   "execution_count": 32,
   "metadata": {
    "pycharm": {
     "name": "#%%\n"
    }
   },
   "outputs": [
    {
     "name": "stdout",
     "output_type": "stream",
     "text": [
      "[]\n"
     ]
    }
   ],
   "source": [
    "# 设置输入和输出目录\n",
    "input_dir = r'D:\\Work\\Datasets\\Normaldatas89\\\\'\n",
    "output_dir = r'D:\\Work\\Datasets\\Normaldatas89\\h5file\\\\'\n",
    "image_list= sorted(glob.glob(os.path.join(input_dir,\"dataimage\" +'*nii.gz')))\n",
    "print(image_list)\n",
    "# label_list=sorted(glob.glob(os.path.join(input_dir,\"fusion_label\" +'*nii.gz')))\n",
    "# 遍历所有nii文件\n",
    "for image in tqdm(image_list,total=len(image_list)):\n",
    "    img=image\n",
    "    lab=img.replace('dataimage','fusion_label')\n",
    "    name=img.split('dataimage')[0]\n",
    "    print(name)\n",
    "    # 加载nii文件\n",
    "    img_arr = nib.load(img)\n",
    "    lab_arr=nib.load(lab)\n",
    "    # 获取图像数据和头信息\n",
    "    data = img.get_fdata()\n",
    "    header = img.header\n",
    "\n",
    "    # 构建输出文件名\n",
    "    output_filename = name + '.h5'\n",
    "    output_path = os.path.join(output_dir, output_filename)\n",
    "\n",
    "    # 将数据保存到.h5文件中\n",
    "    with h5py.File(output_path, 'w') as f:\n",
    "        f.create_dataset('data', data=data)\n",
    "        for key in header:\n",
    "            f.attrs[key] = header[key]"
   ]
  },
  {
   "cell_type": "code",
   "execution_count": 59,
   "outputs": [
    {
     "name": "stdout",
     "output_type": "stream",
     "text": [
      "x\n"
     ]
    }
   ],
   "source": [
    "# 指定 nii.gz 文件路径\n",
    "input_dir = r'H:\\Datasets\\MRA\\MRA109\\train\\\\'\n",
    "output_dir = r'H:\\Datasets\\MRA\\MRA109\\MIDAS_nrrd\\\\'\n",
    "image_list= sorted(glob.glob(os.path.join(input_dir,\"data\\\\\" +'*nii.gz')))\n",
    "print(\"x\")\n",
    "\n",
    "# print(image_list)\n",
    "# label_list=sorted(glob.glob(os.path.join(input_dir,\"fusion_label\" +'*nii.gz')))\n",
    "# 遍历所有nii文件\n",
    "# for image in tqdm(image_list,total=len(image_list)):\n",
    "#     img=image\n",
    "#     lab=img.replace('data\\\\','label\\\\')\n",
    "#     name=img.split('data\\\\')[-1].replace('.nii.gz','')\n",
    "#     print(name)\n",
    "#     # 使用 SimpleITK 库的 ReadImage 加载 nii.gz 文件\n",
    "#     image = sitk.ReadImage(image)\n",
    "#     label=sitk.ReadImage(lab)\n",
    "#\n",
    "#     print(image.GetPixelIDTypeAsString()) # 输出图像的像素类型\n",
    "#     print(image.GetDimension()) # 输出图像的维度\n",
    "#     # 指定要保存的 nrrd 文件路径\n",
    "#     imgpath = r'H:\\Datasets\\MRA\\MRA109\\MIDAS_nrrd\\data\\\\'+name+'.nrrd'\n",
    "#     # 使用 SimpleITK 库的 WriteImage 将图像另存为 nrrd 格式文件\n",
    "#     sitk.WriteImage(image, imgpath)\n",
    "#\n",
    "#     labelpath = r'H:\\Datasets\\MRA\\MRA109\\MIDAS_nrrd\\label\\\\'+name+'.nrrd'\n",
    "#     # 使用 SimpleITK 库的 WriteImage 将图像另存为 nrrd 格式文件\n",
    "#     sitk.WriteImage(label, labelpath)"
   ],
   "metadata": {
    "collapsed": false,
    "pycharm": {
     "name": "#%%\n"
    }
   }
  },
  {
   "cell_type": "code",
   "execution_count": 58,
   "outputs": [
    {
     "ename": "NameError",
     "evalue": "name 'nrrd' is not defined",
     "output_type": "error",
     "traceback": [
      "\u001B[1;31m---------------------------------------------------------------------------\u001B[0m",
      "\u001B[1;31mNameError\u001B[0m                                 Traceback (most recent call last)",
      "Input \u001B[1;32mIn [58]\u001B[0m, in \u001B[0;36m<cell line: 1>\u001B[1;34m()\u001B[0m\n\u001B[1;32m----> 1\u001B[0m label \u001B[38;5;241m=\u001B[39m \u001B[43mnrrd\u001B[49m\u001B[38;5;241m.\u001B[39mread(\u001B[38;5;124mr\u001B[39m\u001B[38;5;124m'\u001B[39m\u001B[38;5;124mH:\u001B[39m\u001B[38;5;124m\\\u001B[39m\u001B[38;5;124mDatasets\u001B[39m\u001B[38;5;124m\\\u001B[39m\u001B[38;5;124mMRA\u001B[39m\u001B[38;5;124m\\\u001B[39m\u001B[38;5;124mMRA109\u001B[39m\u001B[38;5;124m\\\u001B[39m\u001B[38;5;124mMIDAS_nrrd\u001B[39m\u001B[38;5;124m\\\u001B[39m\u001B[38;5;124mdata\u001B[39m\u001B[38;5;124m\\\u001B[39m\u001B[38;5;124mNormal002-MRA_brain.nrrd\u001B[39m\u001B[38;5;124m'\u001B[39m)\n\u001B[0;32m      2\u001B[0m \u001B[38;5;28mprint\u001B[39m(\u001B[38;5;124m\"\u001B[39m\u001B[38;5;124mlabel\u001B[39m\u001B[38;5;124m\"\u001B[39m,label\u001B[38;5;241m.\u001B[39mshape)\n\u001B[0;32m      3\u001B[0m label_data \u001B[38;5;241m=\u001B[39m (label[\u001B[38;5;241m0\u001B[39m] \u001B[38;5;241m/\u001B[39m \u001B[38;5;241m255\u001B[39m)\u001B[38;5;241m.\u001B[39mastype(np\u001B[38;5;241m.\u001B[39mfloat32)\n",
      "\u001B[1;31mNameError\u001B[0m: name 'nrrd' is not defined"
     ]
    }
   ],
   "source": [
    "label = nrrd.read(r'H:\\Datasets\\MRA\\MRA109\\MIDAS_nrrd\\data\\Normal002-MRA_brain.nrrd')\n",
    "print(\"label\",label.shape)\n",
    "label_data = (label[0] / 255).astype(np.float32)"
   ],
   "metadata": {
    "collapsed": false,
    "pycharm": {
     "name": "#%%\n"
    }
   }
  },
  {
   "cell_type": "markdown",
   "source": [
    "TODO 生成csv文件"
   ],
   "metadata": {
    "collapsed": false,
    "pycharm": {
     "name": "#%% md\n"
    }
   }
  },
  {
   "cell_type": "code",
   "execution_count": 42,
   "metadata": {
    "pycharm": {
     "name": "#%%\n"
    }
   },
   "outputs": [],
   "source": [
    "import pandas as pd\n",
    "import glob\n",
    "import os\n",
    "import numpy as np\n",
    "import openpyxl\n",
    "from tqdm import tqdm\n"
   ]
  },
  {
   "cell_type": "code",
   "execution_count": 41,
   "metadata": {
    "pycharm": {
     "name": "#%%\n"
    }
   },
   "outputs": [
    {
     "name": "stdout",
     "output_type": "stream",
     "text": [
      "[ 220 / 221]"
     ]
    }
   ],
   "source": [
    "model=\"write\"\n",
    "# model=\"read\"\n",
    "csvname=r'E:\\hgtdata\\data_new\\train_data\\dwi\\train_val.csv'\n",
    "Exsit_training_path = r'E:\\hgtdata\\data_new\\train_data\\dwi\\\\'\n",
    "\n",
    "datanameList = sorted(glob.glob(os.path.join(Exsit_training_path, '*.nii.gz')))\n",
    "# labelnameList = sorted(glob.glob(os.path.join(Exsit_training_path, 'val*seg.npy')))\n",
    "datanameList.sort()\n",
    "# labelnameList.sort()\n",
    "\n",
    "# percentlist=[]\n",
    "filenamelist=[]\n",
    "# classificationlist=[]\n",
    "# numberlist=[]\n",
    "\n",
    "if model==\"write\":\n",
    "    for i in range(0,len(datanameList),1):\n",
    "# for i in tqdm(range(len(datanameList))):\n",
    "#     num=datanameList[i].split('seg.npy')[0].split('__')[1]\n",
    "\n",
    "        filename=str(datanameList[i]).split('dwi\\\\')[-1]\n",
    "\n",
    "    # pathnamelist.append(pathname)\n",
    "        filenamelist.append(filename)\n",
    "\n",
    "        output_excel = { 'filename': []}\n",
    "\n",
    "    # output_excel['pathname'] = pathnamelist\n",
    "        output_excel['filename'] = filenamelist\n",
    "\n",
    "        output = pd.DataFrame(output_excel)\n",
    "        output.to_csv(csvname, index=False)\n",
    "        print('\\r[ %d / %d]' % (i, len(datanameList)), end='')"
   ]
  },
  {
   "cell_type": "markdown",
   "source": [
    "'''计算像素标签值'''"
   ],
   "metadata": {
    "collapsed": false,
    "pycharm": {
     "name": "#%% md\n"
    }
   }
  },
  {
   "cell_type": "code",
   "execution_count": null,
   "outputs": [],
   "source": [
    "#计算标签像素之和\n",
    "Exsit_training_path = r'C:\\Users\\hello\\Desktop\\Comparative_Test\\vessel_testing\\\\'\n",
    "\n",
    "datanameList = sorted(glob.glob(os.path.join(Exsit_training_path, '*seg.nii.gz')))\n",
    "\n",
    "for data in tqdm(datanameList,total=len(datanameList)) :\n",
    "\n",
    "    # imagname=data.split('label\\\\')[-1]\n",
    "    imag_sum=nib.load(data).get_fdata().sum()\n",
    "    print(imag_sum)\n",
    "    # fp = open(r'E:\\hgtdata\\data_new\\test_data\\testabel_sum.txt', \"a+\")\n",
    "#     print('\\n file name is ,', imagname, file=fp)\n",
    "#     print('\\n file sum is ,', imag_sum, file=fp)\n",
    "# fp.close()"
   ],
   "metadata": {
    "collapsed": false,
    "pycharm": {
     "name": "#%%\n"
    }
   }
  },
  {
   "cell_type": "markdown",
   "source": [
    "TODO nnUnet 中的dataset.json 文件生成"
   ],
   "metadata": {
    "collapsed": false,
    "pycharm": {
     "name": "#%% md\n"
    }
   }
  },
  {
   "cell_type": "code",
   "execution_count": 16,
   "metadata": {
    "pycharm": {
     "name": "#%%\n"
    }
   },
   "outputs": [],
   "source": [
    "import os\n",
    "import json"
   ]
  },
  {
   "cell_type": "code",
   "execution_count": 19,
   "outputs": [],
   "source": [
    "def create_dataset_json(data_root: str, task_name: str):\n",
    "    dataset_dict = {\n",
    "        \"name\": task_name,\n",
    "        \"description\": \"\",\n",
    "        \"tensorImageSize\": \"3D\",\n",
    "        \"reference\": \"\",\n",
    "        \"licence\": \"\",\n",
    "        \"release\": \"\",\n",
    "        \"modality\": {\n",
    "            \"0\": \"MRI\"\n",
    "        },\n",
    "        \"labels\": {\n",
    "            \"0\": \"background\",\n",
    "            \"1\": \"vessel\",\n",
    "         },\n",
    "        \"numTraining\": len(os.listdir(os.path.join(data_root, \"imagesTr\"))),\n",
    "        \"numTest\": len(os.listdir(os.path.join(data_root, \"imagesTs\"))),\n",
    "        \"training\": [\n",
    "            {\n",
    "                \"image\": \"./imagesTr/{}\".format(image_name),\n",
    "                \"label\": \"./labelsTr/{}\".format(image_name)\n",
    "            }\n",
    "            for image_name in os.listdir(os.path.join(data_root, \"imagesTr\"))\n",
    "        ],\n",
    "        \"test\": [\n",
    "            \"./imagesTs/{}\".format(image_name)\n",
    "            for image_name in os.listdir(os.path.join(data_root, \"imagesTs\"))\n",
    "        ]\n",
    "    }\n",
    "\n",
    "    with open(os.path.join(data_root, \"dataset.json\"), \"w\") as fp:\n",
    "        json.dump(dataset_dict, fp)\n",
    "create_dataset_json(r\"E:\\Datasets_public\\IXI_MRA45\\\\\", \"MRA\")"
   ],
   "metadata": {
    "collapsed": false,
    "pycharm": {
     "name": "#%%\n"
    }
   }
  },
  {
   "cell_type": "code",
   "execution_count": null,
   "outputs": [],
   "source": [
    "def get_ROI_area(target):\n",
    "    assert len(target.shape) == 3\n",
    "    z_min = 0\n",
    "    y_min = 0\n",
    "    x_min = 0\n",
    "    z_max = 0\n",
    "    y_max = 0\n",
    "    x_max = 0\n",
    "    # # c_max=[]\n",
    "    # # for a in range(target.shape[0]):\n",
    "    # #     for b in range (target.shape[1]):\n",
    "    # #         for c in range (target.shape[2]):\n",
    "    # #             if target[a][b][c]!=0:\n",
    "    # #                 z_min.append(c)\n",
    "    # #                 break\n",
    "    # # z_min=[sorted(z_min)[0]]\n",
    "    #\n",
    "    # for a in range(target.shape[0]):\n",
    "    #     for b in range (target.shape[2]):\n",
    "    #         for c in range (target.shape[1]):\n",
    "    #             if target[a][c][b]!=0:\n",
    "    #                 y_min.append(c)\n",
    "    #                 break\n",
    "    # y_min=[sorted(y_min)[0]]\n",
    "    #\n",
    "    # for a in range(target.shape[1]):\n",
    "    #     for b in range (target.shape[2]):\n",
    "    #         for c in range (target.shape[0]):\n",
    "    #             if target[c][a][b]!=0:\n",
    "    #                 x_min.append(c)\n",
    "    #                 break\n",
    "    # x_min=[sorted(x_min)[0]]\n",
    "        # TODO Y\n",
    "    for x in range(target.shape[0]):\n",
    "        if target[x, :, :].sum() != 0:\n",
    "            x_min = x\n",
    "            # print(\"a_min is :\", x)\n",
    "            break\n",
    "    for x in range(target.shape[0]-1, x_min, 1):\n",
    "        if target[x, :, :].sum() == 0:\n",
    "            x_max = x\n",
    "            # print(\"a_min is :\", x)\n",
    "            break\n",
    "        #TODO Y\n",
    "    for y in range(target.shape[1]):\n",
    "        if target[:, y, :].sum() != 0:\n",
    "            y_min = y\n",
    "            break\n",
    "\n",
    "    for y in range(target.shape[1]-1, y_min, -1):\n",
    "        if target[:, y, :].sum() == 0:\n",
    "            y_max = y\n",
    "            # print(\"a_min is :\", x)\n",
    "            break\n",
    "        # TODO Y\n",
    "    for z in range(target.shape[2]):\n",
    "        if target[:, :, z].sum() != 0:\n",
    "            z_min = z\n",
    "            # print(\"a_min is :\", x)\n",
    "            break\n",
    "    for z in range(target.shape[2]-1,z_min , 1):\n",
    "        if target[:, :, z].sum() == 0:\n",
    "            z_max = z\n",
    "            # print(\"a_min is :\", x)\n",
    "            break\n",
    "    return x_min,x_max,y_min,y_max,z_min,z_max"
   ],
   "metadata": {
    "collapsed": false,
    "pycharm": {
     "name": "#%%\n"
    }
   }
  },
  {
   "cell_type": "markdown",
   "source": [
    "TODO nii.gz文件重命名"
   ],
   "metadata": {
    "collapsed": false,
    "pycharm": {
     "name": "#%% md\n"
    }
   }
  },
  {
   "cell_type": "code",
   "execution_count": 70,
   "metadata": {
    "pycharm": {
     "name": "#%%\n"
    }
   },
   "outputs": [
    {
     "name": "stderr",
     "output_type": "stream",
     "text": [
      "100%|██████████| 4/4 [00:06<00:00,  1.66s/it]\n"
     ]
    }
   ],
   "source": [
    "###\n",
    "input_dir = r'C:\\Users\\hello\\Desktop\\SSL\\\\'\n",
    "output_dir = r'C:\\Users\\hello\\Desktop\\SSL\\new\\\\'\n",
    "label_list= sorted(glob.glob(os.path.join(input_dir,'image_*.nii.gz')))\n",
    "for label in tqdm(label_list,total=len(label_list)):\n",
    "    label_name=label.replace(\"image\",\"new_image\")\n",
    "\n",
    "    label=nib.load(label)\n",
    "    arr=label.get_fdata()\n",
    "    arr[arr<2.5]=0\n",
    "    affine=label.affine\n",
    "    nifti_data = nib.Nifti1Image(arr, affine)\n",
    "    nib.save(nifti_data,label_name)"
   ]
  },
  {
   "cell_type": "code",
   "execution_count": 10,
   "metadata": {
    "pycharm": {
     "name": "#%%\n"
    }
   },
   "outputs": [],
   "source": [
    "import numpy\n",
    "import csv\n",
    "import torch\n",
    "import numpy as np\n",
    "import nibabel as nib\n",
    "import SimpleITK as sitk\n",
    "import pandas as pd\n",
    "import glob\n",
    "\n",
    "import sys\n",
    "\n",
    "import os\n",
    "import cv2\n"
   ]
  },
  {
   "cell_type": "code",
   "execution_count": 9,
   "metadata": {
    "pycharm": {
     "name": "#%%\n"
    }
   },
   "outputs": [
    {
     "ename": "KeyboardInterrupt",
     "evalue": "",
     "output_type": "error",
     "traceback": [
      "\u001B[1;31m---------------------------------------------------------------------------\u001B[0m",
      "\u001B[1;31mKeyboardInterrupt\u001B[0m                         Traceback (most recent call last)",
      "Input \u001B[1;32mIn [9]\u001B[0m, in \u001B[0;36m<cell line: 6>\u001B[1;34m()\u001B[0m\n\u001B[0;32m      6\u001B[0m \u001B[38;5;28;01mfor\u001B[39;00m i \u001B[38;5;129;01min\u001B[39;00m \u001B[38;5;28mrange\u001B[39m(\u001B[38;5;241m0\u001B[39m,\u001B[38;5;241m1\u001B[39m,\u001B[38;5;241m1\u001B[39m):\n\u001B[0;32m      7\u001B[0m     datapath\u001B[38;5;241m=\u001B[39mimage_list[i]\n\u001B[1;32m----> 8\u001B[0m     arr\u001B[38;5;241m=\u001B[39m\u001B[43mnib\u001B[49m\u001B[38;5;241m.\u001B[39mload(datapath)\u001B[38;5;241m.\u001B[39mget_fdata()\n\u001B[0;32m      9\u001B[0m \u001B[38;5;66;03m#     arr_shape=arr.size()\u001B[39;00m\n\u001B[0;32m     10\u001B[0m     \u001B[38;5;28mprint\u001B[39m(arr)\n",
      "Input \u001B[1;32mIn [9]\u001B[0m, in \u001B[0;36m<cell line: 6>\u001B[1;34m()\u001B[0m\n\u001B[0;32m      6\u001B[0m \u001B[38;5;28;01mfor\u001B[39;00m i \u001B[38;5;129;01min\u001B[39;00m \u001B[38;5;28mrange\u001B[39m(\u001B[38;5;241m0\u001B[39m,\u001B[38;5;241m1\u001B[39m,\u001B[38;5;241m1\u001B[39m):\n\u001B[0;32m      7\u001B[0m     datapath\u001B[38;5;241m=\u001B[39mimage_list[i]\n\u001B[1;32m----> 8\u001B[0m     arr\u001B[38;5;241m=\u001B[39m\u001B[43mnib\u001B[49m\u001B[38;5;241m.\u001B[39mload(datapath)\u001B[38;5;241m.\u001B[39mget_fdata()\n\u001B[0;32m      9\u001B[0m \u001B[38;5;66;03m#     arr_shape=arr.size()\u001B[39;00m\n\u001B[0;32m     10\u001B[0m     \u001B[38;5;28mprint\u001B[39m(arr)\n",
      "File \u001B[1;32m_pydevd_bundle\\pydevd_cython_win32_39_64.pyx:1179\u001B[0m, in \u001B[0;36m_pydevd_bundle.pydevd_cython_win32_39_64.SafeCallWrapper.__call__\u001B[1;34m()\u001B[0m\n",
      "File \u001B[1;32m_pydevd_bundle\\pydevd_cython_win32_39_64.pyx:620\u001B[0m, in \u001B[0;36m_pydevd_bundle.pydevd_cython_win32_39_64.PyDBFrame.trace_dispatch\u001B[1;34m()\u001B[0m\n",
      "File \u001B[1;32m_pydevd_bundle\\pydevd_cython_win32_39_64.pyx:929\u001B[0m, in \u001B[0;36m_pydevd_bundle.pydevd_cython_win32_39_64.PyDBFrame.trace_dispatch\u001B[1;34m()\u001B[0m\n",
      "File \u001B[1;32m_pydevd_bundle\\pydevd_cython_win32_39_64.pyx:920\u001B[0m, in \u001B[0;36m_pydevd_bundle.pydevd_cython_win32_39_64.PyDBFrame.trace_dispatch\u001B[1;34m()\u001B[0m\n",
      "File \u001B[1;32m_pydevd_bundle\\pydevd_cython_win32_39_64.pyx:317\u001B[0m, in \u001B[0;36m_pydevd_bundle.pydevd_cython_win32_39_64.PyDBFrame.do_wait_suspend\u001B[1;34m()\u001B[0m\n",
      "File \u001B[1;32mD:\\pycharm\\PyCharm 2022.1\\plugins\\python\\helpers\\pydev\\pydevd.py:1155\u001B[0m, in \u001B[0;36mPyDB.do_wait_suspend\u001B[1;34m(self, thread, frame, event, arg, send_suspend_message, is_unhandled_exception)\u001B[0m\n\u001B[0;32m   1152\u001B[0m         from_this_thread\u001B[38;5;241m.\u001B[39mappend(frame_id)\n\u001B[0;32m   1154\u001B[0m \u001B[38;5;28;01mwith\u001B[39;00m \u001B[38;5;28mself\u001B[39m\u001B[38;5;241m.\u001B[39m_threads_suspended_single_notification\u001B[38;5;241m.\u001B[39mnotify_thread_suspended(thread_id, stop_reason):\n\u001B[1;32m-> 1155\u001B[0m     \u001B[38;5;28;43mself\u001B[39;49m\u001B[38;5;241;43m.\u001B[39;49m\u001B[43m_do_wait_suspend\u001B[49m\u001B[43m(\u001B[49m\u001B[43mthread\u001B[49m\u001B[43m,\u001B[49m\u001B[43m \u001B[49m\u001B[43mframe\u001B[49m\u001B[43m,\u001B[49m\u001B[43m \u001B[49m\u001B[43mevent\u001B[49m\u001B[43m,\u001B[49m\u001B[43m \u001B[49m\u001B[43marg\u001B[49m\u001B[43m,\u001B[49m\u001B[43m \u001B[49m\u001B[43msuspend_type\u001B[49m\u001B[43m,\u001B[49m\u001B[43m \u001B[49m\u001B[43mfrom_this_thread\u001B[49m\u001B[43m)\u001B[49m\n",
      "File \u001B[1;32mD:\\pycharm\\PyCharm 2022.1\\plugins\\python\\helpers\\pydev\\pydevd.py:1170\u001B[0m, in \u001B[0;36mPyDB._do_wait_suspend\u001B[1;34m(self, thread, frame, event, arg, suspend_type, from_this_thread)\u001B[0m\n\u001B[0;32m   1167\u001B[0m             \u001B[38;5;28mself\u001B[39m\u001B[38;5;241m.\u001B[39m_call_mpl_hook()\n\u001B[0;32m   1169\u001B[0m         \u001B[38;5;28mself\u001B[39m\u001B[38;5;241m.\u001B[39mprocess_internal_commands()\n\u001B[1;32m-> 1170\u001B[0m         \u001B[43mtime\u001B[49m\u001B[38;5;241;43m.\u001B[39;49m\u001B[43msleep\u001B[49m\u001B[43m(\u001B[49m\u001B[38;5;241;43m0.01\u001B[39;49m\u001B[43m)\u001B[49m\n\u001B[0;32m   1172\u001B[0m \u001B[38;5;28mself\u001B[39m\u001B[38;5;241m.\u001B[39mcancel_async_evaluation(get_current_thread_id(thread), \u001B[38;5;28mstr\u001B[39m(\u001B[38;5;28mid\u001B[39m(frame)))\n\u001B[0;32m   1174\u001B[0m \u001B[38;5;66;03m# process any stepping instructions\u001B[39;00m\n",
      "\u001B[1;31mKeyboardInterrupt\u001B[0m: "
     ]
    }
   ],
   "source": [
    "ori_path=r'E:\\Datasets_public\\IXI_MRA45\\aug\\CF_train_label\\\\'\n",
    "# savepath=r'D:\\SEED\\test\\resize_1024\\\\'\n",
    "\n",
    "#TODO 重命名\n",
    "image_list = sorted(glob.glob(os.path.join(ori_path,  '*.nii.gz')))\n",
    "for i in range(0,1,1):\n",
    "    datapath=image_list[i]\n",
    "    arr=nib.load(datapath).get_fdata()\n",
    "#     arr_shape=arr.size()\n",
    "    print(arr)\n",
    "    print('\\r[ %d / %d]' % (i, len(image_list)), end='')\n"
   ]
  },
  {
   "cell_type": "markdown",
   "source": [
    "TODO 截取三维图像中某区域范围"
   ],
   "metadata": {
    "collapsed": false,
    "pycharm": {
     "name": "#%% md\n"
    }
   }
  },
  {
   "cell_type": "code",
   "execution_count": null,
   "outputs": [],
   "source": [
    "data_path=r'E:\\Datasets_public\\IXI_MRA45\\data\\IXI473-IOP-1137-MRA.nii.gz'\n",
    "label_path=r'E:\\Datasets_public\\IXI_MRA45\\label\\IXI473-IOP-1137-MRA_GT.nii.gz'\n",
    "\n",
    "# datapath=label_path\n",
    "data=nib.load(data_path)\n",
    "data_arr=data.get_fdata()\n",
    "newdata_arr=data_arr[:,250:1024,:]\n",
    "newdata_arr=np.array(newdata_arr,dtype='int16')\n",
    "\n",
    "# labelpath=label_path\n",
    "label=nib.load(label_path)\n",
    "label_arr=label.get_fdata()\n",
    "newdlabel_arr=label_arr[:,250:1024,:]\n",
    "newdlabel_arr=np.array(newdlabel_arr,dtype='uint8')\n",
    "\n",
    "#save\n",
    "nifti_data = nib.Nifti1Image(newdata_arr, data.affine)\n",
    "nib.save(nifti_data, r'E:\\Datasets_public\\IXI_MRA45\\IXI473-IOP-1137-MRA.nii.gz')\n",
    "\n",
    "nifti_label = nib.Nifti1Image(newdlabel_arr, label.affine)\n",
    "nib.save(nifti_label, r'E:\\Datasets_public\\IXI_MRA45\\IXI473-IOP-1137-MRA_GT.nii.gz')\n",
    "print(\"finish！\")"
   ],
   "metadata": {
    "collapsed": false,
    "pycharm": {
     "name": "#%%\n"
    }
   }
  },
  {
   "cell_type": "markdown",
   "source": [
    "TODO  npy2nii"
   ],
   "metadata": {
    "collapsed": false,
    "pycharm": {
     "name": "#%% md\n"
    }
   }
  },
  {
   "cell_type": "code",
   "execution_count": 17,
   "outputs": [],
   "source": [
    "import nibabel as nib\n",
    "import numpy as np\n",
    "import os\n",
    "import glob\n"
   ],
   "metadata": {
    "collapsed": false,
    "pycharm": {
     "name": "#%%\n"
    }
   }
  },
  {
   "cell_type": "code",
   "execution_count": 26,
   "outputs": [
    {
     "name": "stdout",
     "output_type": "stream",
     "text": [
      "label_arr: (128, 128, 128)\n",
      "mask_120\n",
      "C:\\Users\\hello\\Desktop\\ixi\\test\\\\mask\\mask_120.npy 0\n",
      "transform is over!\n"
     ]
    }
   ],
   "source": [
    "datafilePath=r'C:\\Users\\hello\\Desktop\\ixi\\test\\\\'\n",
    "# labelfilePath=r'D:\\Work\\ZoomNet\\MedicalZooPytorch-master\\datasets\\vessel\\generated1%\\test_vol_16x16x16\\\\'\n",
    "dataoutput=r'C:\\Users\\hello\\Desktop\\ixi\\test\\\\'\n",
    "labeloutput=r'C:\\Users\\hello\\Desktop\\ixi\\test\\\\'\n",
    "datanameList = sorted(glob.glob(os.path.join(datafilePath, 'image\\\\'+'*.npy')))\n",
    "labelnameList = sorted(glob.glob(os.path.join(datafilePath,'mask\\\\'+'*.npy')))\n",
    "\n",
    "for j in range(1):\n",
    "    label_arr=np.load(r'C:\\Users\\hello\\Desktop\\ixi\\test\\mask\\mask_120.npy')\n",
    "    label_arr=np.argmax(label_arr,axis=3)\n",
    "    # print(label_arr.shape)\n",
    "    label_arr=np.array(label_arr,dtype='uint8')\n",
    "    print('label_arr:',label_arr.shape)\n",
    "    new_label = nib.Nifti1Image(label_arr, np.eye(4))\n",
    "    # nib.save(new_label, 'nifti.nii.gz')\n",
    "# new_image.set_data_dtype(np.my_dtype)\n",
    "    labelname=str(labelnameList[j]).split('mask\\\\')[-1].replace('.npy','')\n",
    "    print(labelname)\n",
    "    print(labelnameList[j],j)#############split('_0')[-1]表示‘-0’前面的保留，[1]后面的保留\n",
    "    nib.save(new_label, os.path.join(labeloutput,labelname+'_label.nii.gz'))\n",
    "print(\"transform is over!\")#####"
   ],
   "metadata": {
    "collapsed": false,
    "pycharm": {
     "name": "#%%\n"
    }
   }
  },
  {
   "cell_type": "code",
   "execution_count": 25,
   "outputs": [],
   "source": [
    "label_arr1=nib.load(r'C:\\Users\\hello\\Desktop\\SSL\\mida_pseudo\\tabel2_8\\target1\\Normal001-MRA_brain.nii.gz')\n",
    "affine=label_arr1.affine\n",
    "label_arr=nib.load(r'C:\\Users\\hello\\Desktop\\SSL\\mida_pseudo\\tabel2_8\\urpc\\Normal081-MRA_brain_pred.nii.gz').get_fdata()\n",
    "new_arr=label_arr.swapaxes(0, 2)\n",
    "# label_arr[label_arr>0]=1\n",
    "new_label = nib.Nifti1Image(new_arr, affine)\n",
    "nib.save(new_label,r'C:\\Users\\hello\\Desktop\\SSL\\mida_pseudo\\tabel2_8\\Normal081-MRA_brain_pred.nii.gz')"
   ],
   "metadata": {
    "collapsed": false,
    "pycharm": {
     "name": "#%%\n"
    }
   }
  },
  {
   "cell_type": "markdown",
   "source": [
    "TODO 分割指标计算"
   ],
   "metadata": {
    "collapsed": false,
    "pycharm": {
     "name": "#%% md\n"
    }
   }
  },
  {
   "cell_type": "code",
   "execution_count": 6,
   "metadata": {
    "pycharm": {
     "name": "#%%\n"
    }
   },
   "outputs": [],
   "source": [
    "from medpy import metric\n",
    "import numpy as np\n",
    "import nibabel as nib\n",
    "import SimpleITK as sitk\n",
    "import pandas as pd\n",
    "import glob\n",
    "import sys\n",
    "import os\n",
    "import time\n",
    "import torch\n",
    "from sklearn.metrics import accuracy_score"
   ]
  },
  {
   "cell_type": "code",
   "execution_count": 10,
   "outputs": [],
   "source": [
    "def calculate_metric_percase(pred, gt):\n",
    "\n",
    "    dice = metric.binary.dc(pred, gt)\n",
    "    jc = metric.binary.jc(pred, gt)\n",
    "    hd95 = metric.binary.hd95(pred, gt)\n",
    "    # acc=metric.binary.\n",
    "    # hd=0\n",
    "    # asd=0\n",
    "    asd = metric.binary.asd(pred, gt)\n",
    "    precision=metric.binary.precision(pred,gt)\n",
    "    recall=metric.binary.recall(pred,gt)\n",
    "    spe=metric.binary.specificity(pred,gt)\n",
    "    sensti=metric.binary.sensitivity(pred,gt)\n",
    "    # miou=metric.\n",
    "    return dice,jc ,hd95,asd,precision,recall,spe,sensti"
   ],
   "metadata": {
    "collapsed": false,
    "pycharm": {
     "name": "#%%\n"
    }
   }
  },
  {
   "cell_type": "markdown",
   "source": [
    "''' 二分类计算'''"
   ],
   "metadata": {
    "collapsed": false,
    "pycharm": {
     "name": "#%% md\n"
    }
   }
  },
  {
   "cell_type": "code",
   "execution_count": 20,
   "outputs": [
    {
     "ename": "FileNotFoundError",
     "evalue": "No such file or no access: 'C:\\Users\\hello\\Desktop\\ixi\\test\\label.nii.gz'",
     "output_type": "error",
     "traceback": [
      "\u001B[1;31m---------------------------------------------------------------------------\u001B[0m",
      "\u001B[1;31mFileNotFoundError\u001B[0m                         Traceback (most recent call last)",
      "File \u001B[1;32mD:\\anaconda\\envs\\3DUnet\\lib\\site-packages\\nibabel\\loadsave.py:42\u001B[0m, in \u001B[0;36mload\u001B[1;34m(filename, **kwargs)\u001B[0m\n\u001B[0;32m     41\u001B[0m \u001B[38;5;28;01mtry\u001B[39;00m:\n\u001B[1;32m---> 42\u001B[0m     stat_result \u001B[38;5;241m=\u001B[39m \u001B[43mos\u001B[49m\u001B[38;5;241;43m.\u001B[39;49m\u001B[43mstat\u001B[49m\u001B[43m(\u001B[49m\u001B[43mfilename\u001B[49m\u001B[43m)\u001B[49m\n\u001B[0;32m     43\u001B[0m \u001B[38;5;28;01mexcept\u001B[39;00m \u001B[38;5;167;01mOSError\u001B[39;00m:\n",
      "\u001B[1;31mFileNotFoundError\u001B[0m: [WinError 2] 系统找不到指定的文件。: 'C:\\\\Users\\\\hello\\\\Desktop\\\\ixi\\\\test\\\\label.nii.gz'",
      "\nDuring handling of the above exception, another exception occurred:\n",
      "\u001B[1;31mFileNotFoundError\u001B[0m                         Traceback (most recent call last)",
      "Input \u001B[1;32mIn [20]\u001B[0m, in \u001B[0;36m<cell line: 3>\u001B[1;34m()\u001B[0m\n\u001B[0;32m      1\u001B[0m pred_path\u001B[38;5;241m=\u001B[39m\u001B[38;5;124mr\u001B[39m\u001B[38;5;124m'\u001B[39m\u001B[38;5;124mC:\u001B[39m\u001B[38;5;124m\\\u001B[39m\u001B[38;5;124mUsers\u001B[39m\u001B[38;5;124m\\\u001B[39m\u001B[38;5;124mhello\u001B[39m\u001B[38;5;124m\\\u001B[39m\u001B[38;5;124mDesktop\u001B[39m\u001B[38;5;124m\\\u001B[39m\u001B[38;5;124mixi\u001B[39m\u001B[38;5;124m\\\u001B[39m\u001B[38;5;124mtest\u001B[39m\u001B[38;5;124m\\\u001B[39m\u001B[38;5;124mlabel.nii.gz\u001B[39m\u001B[38;5;124m'\u001B[39m\n\u001B[0;32m      2\u001B[0m gt_path\u001B[38;5;241m=\u001B[39m\u001B[38;5;124mr\u001B[39m\u001B[38;5;124m'\u001B[39m\u001B[38;5;124mC:\u001B[39m\u001B[38;5;124m\\\u001B[39m\u001B[38;5;124mUsers\u001B[39m\u001B[38;5;124m\\\u001B[39m\u001B[38;5;124mhello\u001B[39m\u001B[38;5;124m\\\u001B[39m\u001B[38;5;124mDesktop\u001B[39m\u001B[38;5;124m\\\u001B[39m\u001B[38;5;124mixi\u001B[39m\u001B[38;5;124m\\\u001B[39m\u001B[38;5;124mtest\u001B[39m\u001B[38;5;124m\\\u001B[39m\u001B[38;5;124mmask\u001B[39m\u001B[38;5;124m\\\u001B[39m\u001B[38;5;124mmask_120.nii.gz\u001B[39m\u001B[38;5;124m'\u001B[39m\n\u001B[1;32m----> 3\u001B[0m pred\u001B[38;5;241m=\u001B[39m\u001B[43mnib\u001B[49m\u001B[38;5;241;43m.\u001B[39;49m\u001B[43mload\u001B[49m\u001B[43m(\u001B[49m\u001B[43mpred_path\u001B[49m\u001B[43m)\u001B[49m\u001B[38;5;241m.\u001B[39mget_fdata()\n\u001B[0;32m      4\u001B[0m gt\u001B[38;5;241m=\u001B[39mnib\u001B[38;5;241m.\u001B[39mload(gt_path)\u001B[38;5;241m.\u001B[39mget_fdata()\n\u001B[0;32m      5\u001B[0m start_time\u001B[38;5;241m=\u001B[39mtime\u001B[38;5;241m.\u001B[39mtime()\n",
      "File \u001B[1;32mD:\\anaconda\\envs\\3DUnet\\lib\\site-packages\\nibabel\\loadsave.py:44\u001B[0m, in \u001B[0;36mload\u001B[1;34m(filename, **kwargs)\u001B[0m\n\u001B[0;32m     42\u001B[0m     stat_result \u001B[38;5;241m=\u001B[39m os\u001B[38;5;241m.\u001B[39mstat(filename)\n\u001B[0;32m     43\u001B[0m \u001B[38;5;28;01mexcept\u001B[39;00m \u001B[38;5;167;01mOSError\u001B[39;00m:\n\u001B[1;32m---> 44\u001B[0m     \u001B[38;5;28;01mraise\u001B[39;00m \u001B[38;5;167;01mFileNotFoundError\u001B[39;00m(\u001B[38;5;124mf\u001B[39m\u001B[38;5;124m\"\u001B[39m\u001B[38;5;124mNo such file or no access: \u001B[39m\u001B[38;5;124m'\u001B[39m\u001B[38;5;132;01m{\u001B[39;00mfilename\u001B[38;5;132;01m}\u001B[39;00m\u001B[38;5;124m'\u001B[39m\u001B[38;5;124m\"\u001B[39m)\n\u001B[0;32m     45\u001B[0m \u001B[38;5;28;01mif\u001B[39;00m stat_result\u001B[38;5;241m.\u001B[39mst_size \u001B[38;5;241m<\u001B[39m\u001B[38;5;241m=\u001B[39m \u001B[38;5;241m0\u001B[39m:\n\u001B[0;32m     46\u001B[0m     \u001B[38;5;28;01mraise\u001B[39;00m ImageFileError(\u001B[38;5;124mf\u001B[39m\u001B[38;5;124m\"\u001B[39m\u001B[38;5;124mEmpty file: \u001B[39m\u001B[38;5;124m'\u001B[39m\u001B[38;5;132;01m{\u001B[39;00mfilename\u001B[38;5;132;01m}\u001B[39;00m\u001B[38;5;124m'\u001B[39m\u001B[38;5;124m\"\u001B[39m)\n",
      "\u001B[1;31mFileNotFoundError\u001B[0m: No such file or no access: 'C:\\Users\\hello\\Desktop\\ixi\\test\\label.nii.gz'"
     ]
    }
   ],
   "source": [
    "pred_path=r'C:\\Users\\hello\\Desktop\\ixi\\test\\label.nii.gz'\n",
    "gt_path=r'C:\\Users\\hello\\Desktop\\ixi\\test\\mask\\mask_120.nii.gz'\n",
    "pred=nib.load(pred_path).get_fdata()\n",
    "gt=nib.load(gt_path).get_fdata()\n",
    "start_time=time.time()\n",
    "dice,jc ,hd95,asd,precision,recall,spe,sensti=calculate_metric_percase(pred, gt)\n",
    "iou=dice/(2-dice)\n",
    "pred_flatt=pred.ravel()\n",
    "gt_flatt=gt.ravel()\n",
    "acc=accuracy_score(gt_flatt,pred_flatt)\n",
    "\n",
    "end_time=time.time()\n",
    "Evaluate_time = end_time - start_time\n",
    "print(\"Evaluate_time took {:.2f} seconds\".format(Evaluate_time))\n",
    "print(\"dice,iou,acc ,hd95,jc,asd,precision,recall,spe,sensti:\",dice,iou,acc ,hd95,jc,asd,precision,recall,spe,sensti)"
   ],
   "metadata": {
    "collapsed": false,
    "pycharm": {
     "name": "#%%\n"
    }
   }
  },
  {
   "cell_type": "code",
   "execution_count": 3,
   "outputs": [],
   "source": [
    "def expand_as_one_hot_mul(input,C):\n",
    "    '''\n",
    "    多标签onehot编码\n",
    "    '''\n",
    "    # shape = list(C,input.size()[0],)\n",
    "    C=C\n",
    "    H=input.shape[0]\n",
    "    W=input.shape[1]\n",
    "    D=input.shape[2]\n",
    "\n",
    "    data=input\n",
    "    data_onehot = np.zeros((C, H, W, D))\n",
    "    for i in range(C):\n",
    "        data_onehot[i][data[:,:,:] == i] = 1\n",
    "        '''\n",
    "        当value为i时，则在对应位置的第i通道上赋1\n",
    "        '''\n",
    "    # print(data_onehot.sum())\n",
    "    return data_onehot"
   ],
   "metadata": {
    "collapsed": false,
    "pycharm": {
     "name": "#%%\n"
    }
   }
  },
  {
   "cell_type": "markdown",
   "source": [
    "'''\n",
    "多分类计算\n",
    "借助二分类计算库，先对pred和gt进行onehot编码，然后按通道分别计算\n",
    "'''"
   ],
   "metadata": {
    "collapsed": false,
    "pycharm": {
     "name": "#%% md\n"
    }
   }
  },
  {
   "cell_type": "code",
   "execution_count": 19,
   "outputs": [
    {
     "name": "stdout",
     "output_type": "stream",
     "text": [
      "\n",
      "dice_list: [0.9989006149693876, 0.5738208541654117, 0.8443461790526672, 0.7320374920910522] \n",
      "iou_list: [0.9978036445790471, 0.4023483696570367, 0.7306220632408111, 0.5773337046836559] \n",
      "acc_list : [0.9978287410394265, 0.9992075492831541, 0.9975791890681004, 0.9979602374551971] \n",
      "jc_list : [0.997803644579047, 0.4023483696570367, 0.7306220632408111, 0.577333704683656] \n",
      "hd95_list : [0.0, 25.099800796022265, 1.7320508075688772, 7.280109889280518] \n",
      "asd_list: [0.0013324751788697643, 9.395612825349165, 0.03749984252393662, 1.7172331745635143] \n",
      "precision_list: [0.9989112087873697, 0.532654887049877, 0.9805955168952827, 0.5774275168875787] \n",
      "recall_list: [0.9988900213761058, 0.621882752317535, 0.7413402805002972, 0.9997186721324652] \n",
      "spe_list: [0.9139982439478919, 0.9995315201515278, 0.9998689106600156, 0.9979553230677163] \n",
      "sensti_list: [0.9988900213761058, 0.621882752317535, 0.7413402805002972, 0.9997186721324652]\n",
      "\n",
      " 计算前景类别各项指标：\n",
      "dice_avg: 0.7167348417697103 \n",
      "iou_avg : 0.5701013791938346 \n",
      "acc_avg : 0.9982489919354839 \n",
      "jc_avg : 0.5701013791938346 \n",
      "hd95_avg : 11.370653830957222 \n",
      "asd_avg: 3.716781947478872 \n",
      "precision_avg: 0.6968926402775795 \n",
      "recall_avg: 0.7876472349834325 \n",
      "spe_avg: 0.9991185846264199 \n",
      "sensti_avg: 0.7876472349834325\n",
      "Evaluate_time took 42.43 seconds\n"
     ]
    }
   ],
   "source": [
    "pred_path=r'C:\\Users\\hello\\Desktop\\ixi\\BraTS20_Testing_347_seg.nii.gz'\n",
    "gt_path=r'C:\\Users\\hello\\Desktop\\ixi\\BraTS20_Training_347_seg.nii.gz'\n",
    "pred_arr=nib.load(pred_path).get_fdata()\n",
    "gt_arr=nib.load(gt_path).get_fdata()\n",
    "gt_arr[gt_arr>3]=3#最大标签类别为4\n",
    "#转tensor\n",
    "pred_tensor=torch.tensor(pred_arr)\n",
    "gt_tensor=torch.tensor(gt_arr)\n",
    "# print('shape of pred and gt:',gt_tensor.shape,pred_tensor.shape)\n",
    "# print(gt_tensor.max(),pred_tensor.max())\n",
    "num_classes=2######多少类别\n",
    "dice_list=[]\n",
    "iou_list=[]\n",
    "acc_list=[]\n",
    "jc_list=[]\n",
    "hd95_list=[]\n",
    "asd_list=[]\n",
    "precision_list=[]\n",
    "recall_list=[]\n",
    "spe_list=[]\n",
    "sensti_list=[]\n",
    "# 将预测结果转换为one-hot编码\n",
    "# pred_onehot=expand_as_one_hot(pred_tensor.long(), num_classes)\n",
    "# gt_onehot=expand_as_one_hot(gt_tensor.long(), num_classes)\n",
    "\n",
    "pred_onehot=expand_as_one_hot_mul(pred_arr,num_classes)##输入为数组格式，非tensor\n",
    "gt_onehot=expand_as_one_hot_mul(gt_arr,num_classes)\n",
    "\n",
    "pred_onehot=np.array(pred_onehot,dtype='uint8')\n",
    "gt_onehot=np.array(gt_onehot,dtype='uint8')\n",
    "# print('shape of pred and gt:',pred_onehot.shape,gt_onehot.shape)\n",
    "\n",
    "i=0\n",
    "start_time=time.time()\n",
    "for i in range (num_classes):\n",
    "    # smooth=0.0000001\n",
    "    pred_onehot_i=pred_onehot[i:i+1,:,:,:]\n",
    "    gt_onehot_i=gt_onehot[i:i+1,:,:,:]\n",
    "    # print(i,pred_onehot_i.sum(),gt_onehot_i.sum(),'\\n')#为什么编码之后只在第一维有值\n",
    "    dice,jc ,hd95,asd,precision,recall,spe,sensti=calculate_metric_percase(pred_onehot_i, gt_onehot_i)\n",
    "    iou=dice/(2-dice)\n",
    "    pred_flatt=pred_onehot_i.ravel()\n",
    "    gt_flatt=gt_onehot_i.ravel()\n",
    "\n",
    "    acc=accuracy_score(gt_flatt,pred_flatt)\n",
    "    dice_list.append(dice)\n",
    "    iou_list.append(iou)\n",
    "    acc_list.append(acc)\n",
    "    jc_list.append(jc)\n",
    "    hd95_list.append(hd95)\n",
    "    asd_list.append(asd)\n",
    "    precision_list.append(precision)\n",
    "    recall_list.append(recall)\n",
    "    spe_list.append(spe)\n",
    "    sensti_list.append(sensti)\n",
    "print(\"\\ndice_list:\",dice_list,\"\\niou_list:\",iou_list,\"\\nacc_list :\",acc_list,\"\\njc_list :\",jc_list,\"\\nhd95_list :\",hd95_list,\"\\nasd_list:\",asd_list,\n",
    "      \"\\nprecision_list:\",precision_list,\"\\nrecall_list:\",recall_list,\"\\nspe_list:\",spe_list,\"\\nsensti_list:\",sensti_list)\n",
    "print(\"\\n 计算前景类别各项指标：\"\n",
    "    \"\\ndice_avg:\",np.array(dice_list)[1:num_classes].mean(),#[1:num_classes] 不计算背景\n",
    "      \"\\niou_avg :\",np.array(iou_list)[1:num_classes].mean(),\n",
    "      \"\\nacc_avg :\",np.array(acc_list)[1:num_classes].mean(),\n",
    "      \"\\njc_avg :\",np.array(jc_list)[1:num_classes].mean(),\n",
    "      \"\\nhd95_avg :\",np.array(hd95_list)[1:num_classes].mean(),\n",
    "      \"\\nasd_avg:\",np.array(asd_list)[1:num_classes].mean(),\n",
    "      \"\\nprecision_avg:\",np.array(precision_list)[1:num_classes].mean(),\n",
    "      \"\\nrecall_avg:\",np.array(recall_list)[1:num_classes].mean(),\n",
    "      \"\\nspe_avg:\",np.array(spe_list)[1:num_classes].mean(),\n",
    "      \"\\nsensti_avg:\",np.array(sensti_list)[1:num_classes].mean())\n",
    "end_time=time.time()\n",
    "Evaluate_time = end_time - start_time\n",
    "print(\"Evaluate_time took {:.2f} seconds\".format(Evaluate_time))\n"
   ],
   "metadata": {
    "collapsed": false,
    "pycharm": {
     "name": "#%%\n"
    }
   }
  },
  {
   "cell_type": "code",
   "execution_count": 58,
   "outputs": [
    {
     "ename": "SyntaxError",
     "evalue": "invalid syntax (3888656621.py, line 1)",
     "output_type": "error",
     "traceback": [
      "\u001B[1;36m  Input \u001B[1;32mIn [58]\u001B[1;36m\u001B[0m\n\u001B[1;33m    Evaluate_time took 1.74 seconds\u001B[0m\n\u001B[1;37m                  ^\u001B[0m\n\u001B[1;31mSyntaxError\u001B[0m\u001B[1;31m:\u001B[0m invalid syntax\n"
     ]
    }
   ],
   "source": [
    "# Evaluate_time took 1.74 seconds\n",
    "# dice,jc ,hd,asd,precision,recall,spe,sensti: 0.9708182692626621 0.9432913938018873 1.0 0.413784982605807 0.9593565219671444 0.9825572027070577 0.9984673799118002 0.9825572027070577"
   ],
   "metadata": {
    "collapsed": false,
    "pycharm": {
     "name": "#%%\n"
    }
   }
  },
  {
   "cell_type": "code",
   "execution_count": null,
   "outputs": [],
   "source": [
    "import numpy\n",
    "import csv\n",
    "import torch\n",
    "import numpy as np\n",
    "import nibabel as nib\n",
    "import SimpleITK as sitk\n",
    "import pandas as pd\n",
    "import glob\n",
    "import gc\n",
    "import sys\n",
    "# import psutil\n",
    "import os\n"
   ],
   "metadata": {
    "collapsed": false,
    "pycharm": {
     "name": "#%%\n"
    }
   }
  },
  {
   "cell_type": "code",
   "execution_count": null,
   "outputs": [],
   "source": [
    "\n",
    "filepath=r'I:\\ATLAS_R2.0\\ATLAS_2\\Training\\\\'\n",
    "savepath=r'I:\\ATLAS_R2.0_new\\\\'\n",
    "savedata=os.path.join(savepath, 'image\\\\')\n",
    "savelabel=os.path.join(savepath, 'mask\\\\')\n",
    "file_list = sorted(glob.glob(os.path.join(filepath,  '*')))#R001\n",
    "for i in range (len(file_list)):\n",
    "    dir=file_list[i]\n",
    "    num=dir.split('R')[-1]\n",
    "    print(\"dir:\",dir)\n",
    "    file1_list = sorted(glob.glob(os.path.join(dir,  '*')))#sub-r001s001\n",
    "    for j in range (len(file1_list)):\n",
    "        filepath=file1_list[j]+'\\\\ses-1\\\\anat\\\\'\n",
    "        mask_list = sorted(glob.glob(os.path.join(filepath,  '*mask.nii.gz')))#\n",
    "        image_list=sorted(glob.glob(os.path.join(filepath,  '*T1w.nii.gz')))#\n",
    "        for k in range(len(mask_list)):\n",
    "            image=image_list[k]\n",
    "            mask=mask_list[k]\n",
    "            img_nii = nib.load(image)\n",
    "            label_nii = nib.load(mask)\n",
    "            file_data=savedata+'image_'+num+'.nii.gz'\n",
    "            file_label=savedata+'mask_'+num+'.nii.gz'\n",
    "\n",
    "            nib.save(img_nii,file_data)\n",
    "            nib.save(label_nii,file_label)\n",
    "        ###标签处理，多类合为2类"
   ],
   "metadata": {
    "collapsed": false,
    "pycharm": {
     "name": "#%%\n"
    }
   }
  },
  {
   "cell_type": "code",
   "execution_count": null,
   "outputs": [],
   "source": [],
   "metadata": {
    "collapsed": false,
    "pycharm": {
     "name": "#%%\n"
    }
   }
  },
  {
   "cell_type": "code",
   "execution_count": null,
   "outputs": [],
   "source": [],
   "metadata": {
    "collapsed": false,
    "pycharm": {
     "name": "#%%\n"
    }
   }
  },
  {
   "cell_type": "code",
   "execution_count": 45,
   "outputs": [
    {
     "name": "stdout",
     "output_type": "stream",
     "text": [
      "[1, 8, 6, 2, 5, 4, 8, 3, 7]\n"
     ]
    }
   ],
   "source": [
    "import numpy as np\n",
    "height=[1,8,6,2,5,4,8,3,7]\n",
    "n=2\n",
    "# max=sorted(height)\n",
    "print(height)\n",
    "mul_list=[]\n",
    "# n=0"
   ],
   "metadata": {
    "collapsed": false,
    "pycharm": {
     "name": "#%%\n"
    }
   }
  },
  {
   "cell_type": "code",
   "execution_count": 46,
   "outputs": [
    {
     "name": "stdout",
     "output_type": "stream",
     "text": [
      "36\n"
     ]
    }
   ],
   "source": [
    "for i in range (n,len(height)-1,1):\n",
    "    # ls=[height[i],height[i+1]]\n",
    "    # n+=1\n",
    "    a=height[i]\n",
    "\n",
    "    for j in range(i+1,len(height),1):\n",
    "        b=height[j]\n",
    "        c=[a,b]\n",
    "        d=min(c)\n",
    "        # print('i,j,c,d:',i,j,c,d)\n",
    "        mul=d*(j-i)\n",
    "        mul_list.append(mul)\n",
    "print(np.array(mul_list).max())\n",
    "    #     b"
   ],
   "metadata": {
    "collapsed": false,
    "pycharm": {
     "name": "#%%\n"
    }
   }
  },
  {
   "cell_type": "code",
   "execution_count": 47,
   "outputs": [],
   "source": [
    "import numpy as np\n",
    "def maxArea(self, height: List[int]) -> int:\n",
    "\n",
    "    mul_list=[]\n",
    "\n",
    "    for i in range (0,len(height)-1,1):\n",
    "\n",
    "        a=height[i]\n",
    "\n",
    "        for j in range(i+1,len(height),1):\n",
    "            b=height[j]\n",
    "            c=[a,b]\n",
    "            d=min(c)\n",
    "            # print('i,j,c,d:',i,j,c,d)\n",
    "            mul=d*(j-i)\n",
    "            mul_list.append(mul)\n",
    "    return np.array(mul_list).max()"
   ],
   "metadata": {
    "collapsed": false,
    "pycharm": {
     "name": "#%%\n"
    }
   }
  },
  {
   "cell_type": "markdown",
   "source": [
    "TODO Random txt-file"
   ],
   "metadata": {
    "collapsed": false,
    "pycharm": {
     "name": "#%% md\n"
    }
   }
  },
  {
   "cell_type": "code",
   "execution_count": 89,
   "outputs": [],
   "source": [
    "import random\n",
    "\n",
    "# 读取文件\n",
    "with open(r'C:\\Users\\hello\\Desktop\\SSL\\train_label.txt') as f:\n",
    "    lines = f.readlines()\n",
    "\n",
    "# 打乱顺序\n",
    "random.shuffle(lines)\n",
    "\n",
    "# 将打乱后的行写回到文件\n",
    "with open(r'C:\\Users\\hello\\Desktop\\SSL\\r_train_label.txt', 'w') as f:\n",
    "    f.writelines(lines)"
   ],
   "metadata": {
    "collapsed": false,
    "pycharm": {
     "name": "#%%\n"
    }
   }
  },
  {
   "cell_type": "code",
   "execution_count": 94,
   "outputs": [
    {
     "name": "stderr",
     "output_type": "stream",
     "text": [
      "Please use `binary_opening` from the `scipy.ndimage` namespace, the `scipy.ndimage.morphology` namespace is deprecated.\n",
      "Please use `binary_closing` from the `scipy.ndimage` namespace, the `scipy.ndimage.morphology` namespace is deprecated.\n",
      "Please use `binary_dilation` from the `scipy.ndimage` namespace, the `scipy.ndimage.morphology` namespace is deprecated.\n"
     ]
    },
    {
     "data": {
      "text/plain": "<Figure size 432x288 with 1 Axes>",
      "image/png": "[encoded data removed]"
     },
     "metadata": {
      "needs_background": "light"
     },
     "output_type": "display_data"
    }
   ],
   "source": [
    "import numpy as np\n",
    "import scipy\n",
    "from scipy import ndimage\n",
    "from PIL import Image\n",
    "import matplotlib.pyplot as plt\n",
    "\n",
    "def add_countor(In, Seg, Color=(0, 255, 0)):\n",
    "    \"\"\"\n",
    "    add segmentation contour to an input image\n",
    "\n",
    "    In: Input PIL.Image object, should be an RGB image\n",
    "    Seg: segmentation mask represented by a PIL.Image object\n",
    "    Color: a vector specifying the color of contour\n",
    "    Out: output PIL.Image object with segmentation contour overlayed\n",
    "    \"\"\"\n",
    "    Out = In.copy()\n",
    "    [H, W] = In.size\n",
    "    for i in range(H):\n",
    "        for j in range(W):\n",
    "            if(i==0 or i==H-1 or j==0 or j == W-1):\n",
    "                if(Seg.getpixel((i,j))!=0):\n",
    "                    Out.putpixel((i,j), Color)\n",
    "            elif(Seg.getpixel((i,j))!=0 and  \\\n",
    "                 not(Seg.getpixel((i-1,j))!=0 and \\\n",
    "                     Seg.getpixel((i+1,j))!=0 and \\\n",
    "                     Seg.getpixel((i,j-1))!=0 and \\\n",
    "                     Seg.getpixel((i,j+1))!=0)):\n",
    "                     Out.putpixel((i,j), Color)\n",
    "    return Out\n",
    "\n",
    "\n",
    "def add_segmentation(image, seg_name, Color=(0, 255, 0)):\n",
    "    seg = Image.open(seg_name).convert('L')\n",
    "    if(image.size[1] != seg.size[1] or image.size[0] != seg.size[0]):\n",
    "        print('segmentation has been resized')\n",
    "        seg = seg.resize(image.size)\n",
    "    seg = np.asarray(seg)\n",
    "    strt = ndimage.generate_binary_structure(2, 1)\n",
    "    seg = np.asarray(ndimage.morphology.binary_opening(seg, strt), np.uint8)\n",
    "    seg = np.asarray(ndimage.morphology.binary_closing(seg, strt), np.uint8)\n",
    "\n",
    "    img_show = add_countor(image, Image.fromarray(seg), Color)\n",
    "    strt = ndimage.generate_binary_structure(2, 1)\n",
    "    seg = np.asarray(ndimage.morphology.binary_dilation(seg, strt), np.uint8)\n",
    "    img_show = add_countor(img_show, Image.fromarray(seg), Color)\n",
    "    return img_show\n",
    "\n",
    "if __name__ == \"__main__\":\n",
    "    img_name = r\"C:\\Users\\hello\\Desktop\\SSL\\mida_pseudo\\snapshot0001_img.png\"\n",
    "    seg_name = r\"C:\\Users\\hello\\Desktop\\SSL\\mida_pseudo\\snapshot0001_pred.png\"\n",
    "    gld_name =r\"C:\\Users\\hello\\Desktop\\SSL\\mida_pseudo\\snapshot0001_msk.png\"\n",
    "    img = Image.open(img_name)\n",
    "    img_show = add_segmentation(img, gld_name, Color = (255, 255, 0))\n",
    "    img_show = add_segmentation(img_show, seg_name, Color = (0, 255, 0))\n",
    "    plt.imshow(img_show)\n",
    "    plt.axis('off')\n",
    "    plt.show()\n",
    "    save_name =r\"C:\\Users\\hello\\Desktop\\SSL\\mida_pseudo\\contour1.png\"\n",
    "    img_show.save(save_name)"
   ],
   "metadata": {
    "collapsed": false,
    "pycharm": {
     "name": "#%%\n"
    }
   }
  },
  {
   "cell_type": "code",
   "execution_count": 90,
   "outputs": [],
   "source": [
    "arr=np.load(r'C:\\Users\\hello\\Desktop\\SSL\\mida_pseudo\\rtrain_unlabeled(0, 126, 43)__42seg.npy')\n",
    "vol_image = nib.Nifti1Image(arr, np.eye(4))\n",
    "nib.save(vol_image, r'C:\\Users\\hello\\Desktop\\SSL\\mida_pseudo\\rtrain_unlabeled(0, 126, 43)__42gtseg.nii.gz' )"
   ],
   "metadata": {
    "collapsed": false,
    "pycharm": {
     "name": "#%%\n"
    }
   }
  },
  {
   "cell_type": "code",
   "execution_count": null,
   "outputs": [],
   "source": [
    "import os\n",
    "import SimpleITK as sitk\n",
    "import numpy as np\n",
    "import matplotlib.pyplot as plt\n",
    "from scipy.ndimage import gaussian_filter\n",
    "from PIL import Image\n",
    "from PIL import ImageFilter\n",
    "\n",
    "def gray_to_rgb(image):\n",
    "    \"\"\"\n",
    "    convert a gray-scale image to RGB image\n",
    "\n",
    "    image: an input 2D numpy array with shape [H, W]\n",
    "    image_cat: a output numpy array with shape [H, W, 3]\n",
    "    \"\"\"\n",
    "    image_cat = np.asarray([image, image, image])\n",
    "    image_cat = np.transpose(image_cat, [1, 2, 0])\n",
    "    return image_cat\n",
    "\n",
    "\n",
    "def get_slice_from_volume(image, view, slice_id):\n",
    "    \"\"\"\n",
    "    extract a slice form a volume image\n",
    "\n",
    "    image: a 3D numpy array with shape of [D, H, W]\n",
    "    view : 0 -- axial, 1 -- sagittal, 2 -- coronal\n",
    "    slice_id: slice index in the given view\n",
    "    \"\"\"\n",
    "    if(view == 1):\n",
    "        image = np.transpose(image, [2, 0, 1])\n",
    "    elif(view == 2):\n",
    "        image = np.transpose(image, [1, 0, 2])\n",
    "    return image[slice_id]\n",
    "\n",
    "\n",
    "def add_contour(In, Seg, Color=(0, 255, 0)):\n",
    "    \"\"\"\n",
    "    add segmentation contour to an input image\n",
    "\n",
    "    In: Input PIL.Image object, should be an RGB image\n",
    "    Seg: segmentation mask represented by a PIL.Image object\n",
    "    Color: a vector specifying the color of contour\n",
    "    Out: output PIL.Image object with segmentation contour overlayed\n",
    "    \"\"\"\n",
    "    Out = In.copy()\n",
    "    [H, W] = In.size\n",
    "    for i in range(H):\n",
    "        for j in range(W):\n",
    "            if(i==0 or i==H-1 or j==0 or j == W-1):\n",
    "                if(Seg.getpixel((i,j))!=0):\n",
    "                    Out.putpixel((i,j), Color)\n",
    "            elif(Seg.getpixel((i,j))!=0 and  \\\n",
    "                 not(Seg.getpixel((i-1,j))!=0 and \\\n",
    "                     Seg.getpixel((i+1,j))!=0 and \\\n",
    "                     Seg.getpixel((i,j-1))!=0 and \\\n",
    "                     Seg.getpixel((i,j+1))!=0)):\n",
    "                     Out.putpixel((i,j), Color)\n",
    "                     Out.putpixel((i+1,j), Color)\n",
    "                     Out.putpixel((i,j+1), Color)\n",
    "                     Out.putpixel((i-1,j), Color)\n",
    "                     Out.putpixel((i,j-1), Color)\n",
    "    return Out\n",
    "\n",
    "def add_segmentation_color(In, Seg, Color=(255, 0, 0), alpha=0.3):\n",
    "    \"\"\"\n",
    "    add segmentation mask to an input image\n",
    "\n",
    "    In: Input PIL.Image object, should be an RGB image\n",
    "    Seg: segmentation mask represented by a PIL.Image object\n",
    "    Color: a vector specifying the color of contour\n",
    "    alpha: alpha value of the mask\n",
    "    Out: output PIL.Image object with segmentation contour overlayed\n",
    "    \"\"\"\n",
    "    Out = In.copy()\n",
    "    [H, W] = In.size\n",
    "    for i in range(H):\n",
    "        for j in range(W):\n",
    "            fg = Seg.getpixel((i,j))\n",
    "            if(fg>0):\n",
    "                color0 = In.getpixel((i,j))\n",
    "                color1 = (int(color0[0] * (1.0 - alpha) + Color[0] * alpha),\n",
    "                          int(color0[1] * (1.0 - alpha) + Color[1] * alpha),\n",
    "                          int(color0[2] * (1.0 - alpha) + Color[2] * alpha))\n",
    "                Out.putpixel((i,j), color1)\n",
    "    return Out\n",
    "\n",
    "def get_central_slice_index_of_nonzero_region(image, view):\n",
    "    \"\"\"\n",
    "    get the central slice index of nonzero region of a volume 3D\n",
    "\n",
    "    image: a 3D numpy array\n",
    "    view : 0 -- axial, 1 -- sagittal, 2 -- coronal\n",
    "    \"\"\"\n",
    "    [d_index, h_index, w_index] = np.where(image)\n",
    "    if(view == 0):\n",
    "        index_list = d_index\n",
    "    elif(view == 1):\n",
    "        index_list = w_index\n",
    "    else:\n",
    "        index_list = h_index\n",
    "    idx_min = min(index_list)\n",
    "    idx_max = max(index_list)\n",
    "    i_cen = int((idx_min + idx_max)/2)\n",
    "    return i_cen\n",
    "\n",
    "def map_scalar_to_color(x):\n",
    "    x_list = [0.0, 0.25, 0.5, 0.75, 1.0]\n",
    "    c_list = [[0, 0, 255],\n",
    "              [0, 255, 255],\n",
    "              [0, 255, 0],\n",
    "              [255, 255, 0],\n",
    "              [255, 0, 0]]\n",
    "    for i in range(len(x_list)):\n",
    "        if(x <= x_list[i + 1]):\n",
    "            x0 = x_list[i]\n",
    "            x1 = x_list[i + 1]\n",
    "            c0 = c_list[i]\n",
    "            c1 = c_list[i + 1]\n",
    "            alpha = (x - x0)/(x1 - x0)\n",
    "            c = [c0[j]*(1 - alpha) + c1[j] * alpha for j in range(3)]\n",
    "            c = [int(item) for item in c]\n",
    "            return tuple(c)\n",
    "\n",
    "def show_one_slice(img_folder, lab_folder, method_list, seg_folder_list, img_id, view_id,\n",
    "         slice_id, save_dir = None, contour = False):\n",
    "    img_name = \"{0:}/{1:}.nii.gz\".format(img_folder, img_id)\n",
    "    lab_name = \"{0:}/{1:}.nii.gz\".format(lab_folder, img_id)\n",
    "    img_obj = sitk.ReadImage(img_name)\n",
    "    spacing = img_obj.GetSpacing()\n",
    "    scale   = spacing[2]/spacing[0]\n",
    "    img = sitk.GetArrayFromImage(img_obj)\n",
    "\n",
    "    # Rescale the image intensity to [0,255].\n",
    "    # You may need to edit this according to your data\n",
    "    img = (img + 1400) / 1500 * 255\n",
    "    img[img < 0]   = 0\n",
    "    img[img > 255] = 255\n",
    "    img = np.asarray(img, np.uint8)\n",
    "\n",
    "    # Extract the specified slice from the image and ground truth mask\n",
    "    lab_obj = sitk.ReadImage(lab_name)\n",
    "    lab     = sitk.GetArrayFromImage(lab_obj)\n",
    "    img_slc = get_slice_from_volume(img, view_id, slice_id)\n",
    "    lab_slc = get_slice_from_volume(lab, view_id, slice_id)\n",
    "\n",
    "    im_show_raw = gray_to_rgb(img_slc)\n",
    "    im_show_raw = Image.fromarray(im_show_raw)\n",
    "    lab_slc = Image.fromarray(lab_slc)\n",
    "\n",
    "    # As the 3D resolution may be anisotropic, resampleing to isotropic\n",
    "    # resolution is needed for better visualization\n",
    "    if(view_id == 1 or view_id == 2):\n",
    "        new_size = [im_show_raw.size[0], int(im_show_raw.size[1] * scale)]\n",
    "        im_show_raw = im_show_raw.resize(new_size)\n",
    "        lab_slc = lab_slc.resize(new_size)\n",
    "\n",
    "    seg_list = []\n",
    "    for seg_folder in seg_folder_list:\n",
    "        seg_name = \"{0:}/{1:}.nii.gz\".format(seg_folder, img_id)\n",
    "        seg_obj = sitk.ReadImage(seg_name)\n",
    "        seg     = sitk.GetArrayFromImage(seg_obj)\n",
    "        seg_slc = get_slice_from_volume(seg, view_id, slice_id)\n",
    "        seg_slc = Image.fromarray(seg_slc)\n",
    "        if(view_id == 1 or view_id == 2):\n",
    "            seg_slc = seg_slc.resize(new_size)\n",
    "        seg_list.append(seg_slc)\n",
    "\n",
    "    plt.figure(figsize=(15, 8))\n",
    "    im_show = im_show_raw\n",
    "    if(contour):\n",
    "        im_show = add_contour(im_show, lab_slc, (255, 128, 0))\n",
    "        im_gt   = im_show\n",
    "    else:\n",
    "        im_gt   = add_segmentation_color(im_show, lab_slc)\n",
    "    N  = len(seg_list)\n",
    "    column = int((N + 3) / 2)\n",
    "    plt.subplot(2, column, 1); plt.axis(\"off\")\n",
    "    plt.imshow(im_show_raw); plt.title(\"image\")\n",
    "    plt.subplot(2, column, 2); plt.axis(\"off\")\n",
    "    plt.imshow(im_gt); plt.title(\"ground_truth\")\n",
    "\n",
    "    if(save_dir):\n",
    "        save_name = \"{0:}/{1:}_{2:}_img.png\".format(save_dir, img_id, slice_id)\n",
    "        im_show_raw.save(save_name)\n",
    "        save_name = \"{0:}/{1:}_{2:}_gt.png\".format(save_dir, img_id, slice_id)\n",
    "        im_gt.save(save_name)\n",
    "    for n in range(N):\n",
    "        plt.subplot(2, column, n + 3); plt.axis(\"off\")\n",
    "        if(contour):\n",
    "            im_show_n = add_contour(im_show, seg_list[n])\n",
    "        else:\n",
    "            im_show_n = add_segmentation_color(im_show, seg_list[n])\n",
    "        if(save_dir):\n",
    "            save_name = \"{0:}/{1:}_{2:}_{3:}_.png\".format(save_dir,\n",
    "                img_id, slice_id, method_list[n])\n",
    "            im_show_n.save(save_name)\n",
    "        plt.imshow(im_show_n); plt.title(method_list[n])\n",
    "\n",
    "    plt.show()\n",
    "\n",
    "\n",
    "def show_results_for_comparison():\n",
    "    \"\"\"\n",
    "    show 3d segmentation results in axial, sagittal or coronal views\n",
    "    \"\"\"\n",
    "    img_folder = \"./image\"\n",
    "    lab_folder = \"./label\"\n",
    "    seg_root = \"./net_compare\"\n",
    "    methods  = [\"unet\", \"unet_att\" \"unet3d\", \"vnet\"]\n",
    "    seg_folder_list  = [\"unet2d/result\", \"unet_att/result\", \"unet3d/result\", \"vnet/result\"]\n",
    "    seg_folder_list = [seg_root + '/' + item for item in seg_folder_list]\n",
    "\n",
    "    save_dir= False #  \"./image1\" #\n",
    "    img_id  = \"image1\"\n",
    "    view_id  = 0  # 0-axial, 1-sagittal, 2-coronal\n",
    "    slice_id = 50\n",
    "\n",
    "    show_one_slice(img_folder, lab_folder, methods, seg_folder_list,\n",
    "          img_id, view_id, slice_id, save_dir, contour=False)\n",
    "\n",
    "\n",
    "if __name__ == \"__main__\":\n",
    "    show_results_for_comparison()"
   ],
   "metadata": {
    "collapsed": false,
    "pycharm": {
     "name": "#%%\n"
    }
   }
  },
  {
   "cell_type": "code",
   "execution_count": 25,
   "outputs": [
    {
     "data": {
      "text/plain": "<Figure size 432x288 with 3 Axes>",
      "image/png": "[encoded data removed]"
     },
     "metadata": {
      "needs_background": "light"
     },
     "output_type": "display_data"
    }
   ],
   "source": [
    "import os\n",
    "import numpy as np\n",
    "import matplotlib.pyplot as plt\n",
    "from PIL import Image\n",
    "\n",
    "def map_scalar_to_color(x):\n",
    "    x_list = [0.0, 0.25, 0.5, 0.75, 1.0]\n",
    "    c_list = [[0, 0, 255],\n",
    "              [0, 255, 255],\n",
    "              [0, 255, 0],\n",
    "              [255, 255, 0],\n",
    "              [255, 0, 0]]\n",
    "    for i in range(len(x_list)):\n",
    "        if(x <= x_list[i + 1]):\n",
    "            x0 = x_list[i]\n",
    "            x1 = x_list[i + 1]\n",
    "            c0 = c_list[i]\n",
    "            c1 = c_list[i + 1]\n",
    "            alpha = (x - x0)/(x1 - x0)\n",
    "            c = [c0[j]*(1 - alpha) + c1[j] * alpha for j in range(3)]\n",
    "            c = [int(item) for item in c]\n",
    "            return tuple(c)\n",
    "\n",
    "def get_fused_heat_map(image, att):\n",
    "    [H, W] = image.size\n",
    "    img = Image.new('RGB', image.size, (255, 0, 0))\n",
    "\n",
    "    for i in range(H):\n",
    "        for j in range(W):\n",
    "            p0 = image.getpixel((i,j))\n",
    "            alpha = att.getpixel((i,j))\n",
    "            p1 = map_scalar_to_color(alpha)\n",
    "            alpha = 0.5 + alpha*0.3\n",
    "            p  = [int(p0[c] * (1 - alpha) + p1[c]*alpha) for c in range(3)]\n",
    "            p = tuple(p)\n",
    "            img.putpixel((i,j), p)\n",
    "    return img\n",
    "\n",
    "if __name__ == \"__main__\":\n",
    "    image_name  = r\"E:\\recente_net\\airway\\airway1.png\"\n",
    "    scalar_name = r\"E:\\recente_net\\airway\\airway_heatmap12.png\"\n",
    "    save_name   = r\"E:\\recente_net\\airway\\airway_heatmapssd.png\"\n",
    "\n",
    "    # img_name = r\"C:\\Users\\hello\\Desktop\\SSL\\mida_pseudo\\snapshot0001_img.png\"\n",
    "    # seg_name = r\"C:\\Users\\hello\\Desktop\\SSL\\mida_pseudo\\snapshot0001_pred.png\"\n",
    "    # gld_name =r\"C:\\Users\\hello\\Desktop\\SSL\\mida_pseudo\\snapshot0001_msk.png\"\n",
    "    img = Image.open(image_name)\n",
    "    # load the scalar map, and normalize the inteinsty to  0 - 1\n",
    "    scl = Image.open(scalar_name).convert('L')\n",
    "    scl_norm = np.asarray(scl, np.float32)/255\n",
    "    scl_norm = Image.fromarray(scl_norm)\n",
    "\n",
    "    # convert the scalar map to heat map, and fuse it with the original image\n",
    "    img_scl = get_fused_heat_map(img, scl_norm)\n",
    "    img_scl.save(save_name)\n",
    "\n",
    "    plt.subplot(1,3,1), plt.axis('off')\n",
    "    plt.imshow(img), plt.title('image')\n",
    "    plt.subplot(1,3,2), plt.axis('off')\n",
    "    plt.imshow(scl), plt.title('foreground attention')\n",
    "    plt.subplot(1,3,3), plt.axis('off')\n",
    "    plt.imshow(img_scl), plt.title('fused result')\n",
    "    plt.show()\n"
   ],
   "metadata": {
    "collapsed": false,
    "pycharm": {
     "name": "#%%\n"
    }
   }
  },
  {
   "cell_type": "markdown",
   "source": [
    "Get image imformation :Size,Spacing"
   ],
   "metadata": {
    "collapsed": false,
    "pycharm": {
     "name": "#%% md\n"
    }
   }
  },
  {
   "cell_type": "code",
   "execution_count": 71,
   "outputs": [
    {
     "name": "stderr",
     "output_type": "stream",
     "text": [
      "  8%|▊         | 2/25 [00:00<00:02, 11.25it/s]"
     ]
    },
    {
     "name": "stdout",
     "output_type": "stream",
     "text": [
      "filename: 10\n",
      "(128, 128, 63)\n",
      "0 127 0 127 0 62\n",
      "filename: 11\n",
      "(128, 128, 63)\n",
      "0 127 0 127 0 62\n",
      "filename: 12\n"
     ]
    },
    {
     "name": "stderr",
     "output_type": "stream",
     "text": [
      " 16%|█▌        | 4/25 [00:00<00:01, 11.29it/s]"
     ]
    },
    {
     "name": "stdout",
     "output_type": "stream",
     "text": [
      "(128, 128, 63)\n",
      "0 127 0 127 0 62\n",
      "filename: 13\n",
      "(128, 128, 63)\n",
      "0 127 0 127 0 62\n",
      "filename: 14\n"
     ]
    },
    {
     "name": "stderr",
     "output_type": "stream",
     "text": [
      " 24%|██▍       | 6/25 [00:00<00:01, 10.11it/s]"
     ]
    },
    {
     "name": "stdout",
     "output_type": "stream",
     "text": [
      "(128, 128, 63)\n",
      "0 127 0 127 0 62\n",
      "filename: 15\n",
      "(128, 128, 63)\n",
      "0 127 0 127 0 62\n",
      "filename: 16\n",
      "(124, 124, 63)\n",
      "0 123 0 123 0 62\n",
      "filename: 17\n"
     ]
    },
    {
     "name": "stderr",
     "output_type": "stream",
     "text": [
      " 32%|███▏      | 8/25 [00:00<00:01,  9.96it/s]"
     ]
    },
    {
     "name": "stdout",
     "output_type": "stream",
     "text": [
      "(166, 166, 67)\n",
      "0 165 0 165 0 66\n",
      "filename: 18\n",
      "(166, 166, 67)\n",
      "0 165 0 165 0 66\n",
      "filename: 19\n"
     ]
    },
    {
     "name": "stderr",
     "output_type": "stream",
     "text": [
      " 40%|████      | 10/25 [00:01<00:01,  8.54it/s]"
     ]
    },
    {
     "name": "stdout",
     "output_type": "stream",
     "text": [
      "(166, 166, 68)\n",
      "0 165 0 165 0 67\n",
      "filename: 1\n",
      "(128, 128, 63)\n",
      "0 127 0 127 0 62\n",
      "filename: 20\n"
     ]
    },
    {
     "name": "stderr",
     "output_type": "stream",
     "text": [
      " 48%|████▊     | 12/25 [00:01<00:01,  8.43it/s]"
     ]
    },
    {
     "name": "stdout",
     "output_type": "stream",
     "text": [
      "(166, 166, 67)\n",
      "0 165 0 165 0 66\n",
      "filename: 21\n",
      "(124, 124, 74)\n",
      "0 123 0 123 0 73\n",
      "filename: 22\n"
     ]
    },
    {
     "name": "stderr",
     "output_type": "stream",
     "text": [
      " 60%|██████    | 15/25 [00:01<00:01,  7.51it/s]"
     ]
    },
    {
     "name": "stdout",
     "output_type": "stream",
     "text": [
      "(152, 152, 104)\n",
      "0 151 0 151 0 103\n",
      "filename: 23\n",
      "(152, 152, 104)\n",
      "0 151 0 151 0 103\n"
     ]
    },
    {
     "name": "stderr",
     "output_type": "stream",
     "text": [
      " 64%|██████▍   | 16/25 [00:01<00:01,  7.14it/s]"
     ]
    },
    {
     "name": "stdout",
     "output_type": "stream",
     "text": [
      "filename: 24\n",
      "(152, 152, 104)\n",
      "0 151 0 151 0 103\n",
      "filename: 25\n"
     ]
    },
    {
     "name": "stderr",
     "output_type": "stream",
     "text": [
      " 68%|██████▊   | 17/25 [00:02<00:01,  6.04it/s]"
     ]
    },
    {
     "name": "stdout",
     "output_type": "stream",
     "text": [
      "(198, 198, 91)\n",
      "0 197 0 197 0 90\n",
      "filename: 2\n",
      "(128, 128, 63)\n",
      "0 127 0 127 0 62\n",
      "filename: 3\n"
     ]
    },
    {
     "name": "stderr",
     "output_type": "stream",
     "text": [
      " 80%|████████  | 20/25 [00:02<00:00,  7.28it/s]"
     ]
    },
    {
     "name": "stdout",
     "output_type": "stream",
     "text": [
      "(160, 160, 65)\n",
      "0 159 0 159 0 64\n",
      "filename: 4\n",
      "(160, 160, 65)\n",
      "0 159 0 159 0 64\n",
      "filename: 5\n"
     ]
    },
    {
     "name": "stderr",
     "output_type": "stream",
     "text": [
      " 92%|█████████▏| 23/25 [00:02<00:00,  8.47it/s]"
     ]
    },
    {
     "name": "stdout",
     "output_type": "stream",
     "text": [
      "(160, 160, 65)\n",
      "0 159 0 159 0 64\n",
      "filename: 6\n",
      "(128, 128, 65)\n",
      "0 127 0 127 0 64\n",
      "filename: 7\n",
      "(128, 128, 65)\n",
      "0 127 0 127 0 64\n",
      "filename: 8\n"
     ]
    },
    {
     "name": "stderr",
     "output_type": "stream",
     "text": [
      "100%|██████████| 25/25 [00:03<00:00,  8.04it/s]"
     ]
    },
    {
     "name": "stdout",
     "output_type": "stream",
     "text": [
      "(160, 160, 65)\n",
      "0 159 0 159 0 64\n",
      "filename: 9\n",
      "(128, 128, 63)\n",
      "0 127 0 127 0 62\n"
     ]
    },
    {
     "name": "stderr",
     "output_type": "stream",
     "text": [
      "\n"
     ]
    }
   ],
   "source": [
    "filepath=r'E:\\Challenges2023\\XunFei\\Brain_PET\\datasets\\Pre_processing\\train\\\\'\n",
    "savepath=r'E:\\Challenges2023\\XunFei\\Brain_PET\\datasets\\Pre_processing\\test\\\\'\n",
    "# savepath=r'I:\\ATLAS_R2.0_new\\\\'\n",
    "# savedata=os.path.join(savepath, 'image\\\\')\n",
    "# savelabel=os.path.join(savepath, 'mask\\\\')\n",
    "file_list = sorted(glob.glob(os.path.join(filepath, 'NC\\\\'+ '*NC.nii.gz')))#R001\n",
    "# fp=open(filepath+'\\\\train_test_resample_info.txt', \"a+\")\n",
    "for file in tqdm(file_list,total=len(file_list)):\n",
    "    filename=file.split('NC\\\\')[-1].replace('NC.nii.gz','')\n",
    "    savename=savepath+filename+'roi.nii.gz'\n",
    "    print('filename:',filename)\n",
    "    # roi_sitk(file,savename)\n",
    "    # resample(file,savename)\n",
    "    data=nib.load(file)\n",
    "    data_arr=data.get_fdata()\n",
    "    # size=data_arr.shape\n",
    "    get_roi(data_arr)\n",
    "    # nor_data=Normal(data_arr)#归一化\n",
    "    # crop_data=Centr_crop(nor_data,size)\n",
    "    # norimg=nib.Nifti1Image(data_arr, data.affine)\n",
    "    # nib.save(norimg,savepath+filename+'Ts.nii.gz')\n",
    "    # print('affine:',data.affine,file=fp)\n",
    "    # print('size:',size,file=fp)\n",
    "# fp.close()"
   ],
   "metadata": {
    "collapsed": false,
    "pycharm": {
     "name": "#%%\n"
    }
   }
  },
  {
   "cell_type": "code",
   "execution_count": 2,
   "outputs": [],
   "source": [
    "def Normal(img):\n",
    "    img_tensor=img\n",
    "    MEAN, STD = img_tensor.mean(), img_tensor.std()\n",
    "    MAX, MIN = img_tensor.max(), img_tensor.min()\n",
    "    # print(MEAN,STD,MAX,MIN)\n",
    "    new_data = (img_tensor - MEAN) / STD\n",
    "    return new_data"
   ],
   "metadata": {
    "collapsed": false,
    "pycharm": {
     "name": "#%%\n"
    }
   }
  },
  {
   "cell_type": "code",
   "execution_count": 21,
   "outputs": [],
   "source": [
    "def Centr_crop(img,size):\n",
    "    # image = torch.Tensor(img)\n",
    "    center=(size[1]/2,size[1]/2,size[2]/2)\n",
    "    startx=int(center[0]-64)\n",
    "    endx=int(center[0]+64)\n",
    "\n",
    "    starty=int(center[1]-64)\n",
    "    endy=int(center[1]+64)\n",
    "    # print(startx,endx,starty,endx,img.shape,size[2],img)\n",
    "    crop_arr=img[startx:endx,starty:endy,0:size[2],:]\n",
    "    return crop_arr\n",
    "\n",
    "# Get end coordinate\n",
    "# end_coord = data_dict[\"end_coord\"]\n"
   ],
   "metadata": {
    "collapsed": false,
    "pycharm": {
     "name": "#%%\n"
    }
   }
  },
  {
   "cell_type": "code",
   "execution_count": 37,
   "outputs": [],
   "source": [
    "def resample(img,savename):\n",
    "    new_spacing=[2.0594,2.0594,2.425]\n",
    "    input_image = sitk.ReadImage(img)\n",
    "    # print(input_image.GetSize(),input_image.GetSpacing())\n",
    "    new_size = np.array(input_image.GetSize()) * np.array(input_image.GetSpacing()) / np.array(new_spacing)\n",
    "    new_size = np.round(new_size).astype(int)  # 取整数值\n",
    "    resampled_img = sitk.Resample(input_image, new_size.tolist(),\n",
    "                              sitk.Transform(), sitk.sitkLinear, input_image.GetOrigin(),\n",
    "                              new_spacing, input_image.GetDirection(), 0, input_image.GetPixelID())\n",
    "    sitk.WriteImage(resampled_img, savename)"
   ],
   "metadata": {
    "collapsed": false,
    "pycharm": {
     "name": "#%%\n"
    }
   }
  },
  {
   "cell_type": "code",
   "execution_count": 68,
   "outputs": [],
   "source": [
    "def roi_sitk(img,name):\n",
    "    threshold=0\n",
    "    radius = 3\n",
    "    # ball = sitk.sitkBall(radius)\n",
    "    image = sitk.ReadImage(img)\n",
    "    mask = sitk.BinaryThreshold(image, lowerThreshold=threshold, upperThreshold=255)\n",
    "    closed_mask = sitk.BinaryMorphologicalClosing(mask, sitk.sitkBall, 5)\n",
    "    roi_image = sitk.Mask(image, closed_mask)\n",
    "    sitk.WriteImage(roi_image, name)"
   ],
   "metadata": {
    "collapsed": false,
    "pycharm": {
     "name": "#%%\n"
    }
   }
  },
  {
   "cell_type": "markdown",
   "source": [
    "generate mask(get feature)"
   ],
   "metadata": {
    "collapsed": false,
    "pycharm": {
     "name": "#%% md\n"
    }
   }
  },
  {
   "cell_type": "code",
   "execution_count": 1,
   "outputs": [
    {
     "ename": "NameError",
     "evalue": "name 'glob' is not defined",
     "output_type": "error",
     "traceback": [
      "\u001B[1;31m---------------------------------------------------------------------------\u001B[0m",
      "\u001B[1;31mNameError\u001B[0m                                 Traceback (most recent call last)",
      "Input \u001B[1;32mIn [1]\u001B[0m, in \u001B[0;36m<cell line: 9>\u001B[1;34m()\u001B[0m\n\u001B[0;32m      5\u001B[0m savepath\u001B[38;5;241m=\u001B[39m\u001B[38;5;124mr\u001B[39m\u001B[38;5;124m'\u001B[39m\u001B[38;5;124mE:\u001B[39m\u001B[38;5;124m\\\u001B[39m\u001B[38;5;124mChallenges2023\u001B[39m\u001B[38;5;124m\\\u001B[39m\u001B[38;5;124mXunFei\u001B[39m\u001B[38;5;124m\\\u001B[39m\u001B[38;5;124mBrain_PET\u001B[39m\u001B[38;5;124m\\\u001B[39m\u001B[38;5;124mdatasets\u001B[39m\u001B[38;5;124m\\\u001B[39m\u001B[38;5;124mPre_processing\u001B[39m\u001B[38;5;124m\\\u001B[39m\u001B[38;5;124mtrain_threshold\u001B[39m\u001B[38;5;130;01m\\\\\u001B[39;00m\u001B[38;5;124m'\u001B[39m\n\u001B[0;32m      6\u001B[0m \u001B[38;5;66;03m# savepath=r'I:\\ATLAS_R2.0_new\\\\'\u001B[39;00m\n\u001B[0;32m      7\u001B[0m \u001B[38;5;66;03m# savedata=os.path.join(savepath, 'image\\\\')\u001B[39;00m\n\u001B[0;32m      8\u001B[0m \u001B[38;5;66;03m# savelabel=os.path.join(savepath, 'mask\\\\')\u001B[39;00m\n\u001B[1;32m----> 9\u001B[0m file_list \u001B[38;5;241m=\u001B[39m \u001B[38;5;28msorted\u001B[39m(\u001B[43mglob\u001B[49m\u001B[38;5;241m.\u001B[39mglob(os\u001B[38;5;241m.\u001B[39mpath\u001B[38;5;241m.\u001B[39mjoin(filepath, \u001B[38;5;124m'\u001B[39m\u001B[38;5;124m*.nii.gz\u001B[39m\u001B[38;5;124m'\u001B[39m)))\u001B[38;5;66;03m#R001\u001B[39;00m\n\u001B[0;32m     10\u001B[0m \u001B[38;5;66;03m# fp=open(filepath+'\\\\train_test_resample_info.txt', \"a+\")\u001B[39;00m\n\u001B[0;32m     11\u001B[0m \u001B[38;5;28;01mfor\u001B[39;00m file \u001B[38;5;129;01min\u001B[39;00m tqdm(file_list,total\u001B[38;5;241m=\u001B[39m\u001B[38;5;28mlen\u001B[39m(file_list)):\n",
      "\u001B[1;31mNameError\u001B[0m: name 'glob' is not defined"
     ]
    }
   ],
   "source": [
    "\n",
    "\n",
    "import numpy as np\n",
    "from scipy.ndimage import label, binary_fill_holes, binary_erosion\n",
    "from skimage.filters import threshold_otsu\n",
    "filepath=r'E:\\Challenges2023\\XunFei\\Brain_PET\\datasets\\Pre_processing\\train_threshold\\\\'\n",
    "savepath=r'E:\\Challenges2023\\XunFei\\Brain_PET\\datasets\\Pre_processing\\train_threshold\\\\'\n",
    "# savepath=r'I:\\ATLAS_R2.0_new\\\\'\n",
    "# savedata=os.path.join(savepath, 'image\\\\')\n",
    "# savelabel=os.path.join(savepath, 'mask\\\\')\n",
    "file_list = sorted(glob.glob(os.path.join(filepath, '*.nii.gz')))#R001\n",
    "# fp=open(filepath+'\\\\train_test_resample_info.txt', \"a+\")\n",
    "for file in tqdm(file_list,total=len(file_list)):\n",
    "    filename=file.split('train_threshold\\\\')[-1]\n",
    "    savename=savepath+filename\n",
    "    print('filename:',filename)\n",
    "    img_nii = sitk.ReadImage(file, outputPixelType=sitk.sitkUInt16)\n",
    "    img_fill = sitk.BinaryFillhole(img_nii)\n",
    "    # img_savedir = savepath+filename\n",
    "\n",
    "    sitk.WriteImage(img_fill, savename)\n",
    "\n",
    "    # norimg=nib.Nifti1Image(binary, np.eye(4))\n",
    "    # nib.save(norimg,savepath+filename+'Ts.nii.gz')\n",
    "    # # np.save('filled_image.npy', binary)"
   ],
   "metadata": {
    "collapsed": false,
    "pycharm": {
     "name": "#%%\n"
    }
   }
  },
  {
   "cell_type": "code",
   "execution_count": 8,
   "outputs": [],
   "source": [
    "with open(r'E:\\SSL_zengxq\\connnet_num_info.txt', 'r') as f:\n",
    "    image_list = f.readlines()"
   ],
   "metadata": {
    "collapsed": false,
    "pycharm": {
     "name": "#%%\n"
    }
   }
  },
  {
   "cell_type": "code",
   "execution_count": 9,
   "outputs": [
    {
     "data": {
      "text/plain": "['filename, sum_num, max, save, dele\\n',\n 'rtrain_unlabeled(0, 126, 43)__42seg.nii.gz , 24 , 2683 , 7 , 16\\n',\n 'rtrain_unlabeled(0, 138, 21)__41seg.nii.gz , 23 , 50 , 23 , -1\\n',\n 'rtrain_unlabeled(0, 169, 3)__68seg.nii.gz , 16 , 59 , 16 , -1\\n',\n 'rtrain_unlabeled(0, 57, 19)__81seg.nii.gz , 17 , 14 , 17 , -1\\n',\n 'rtrain_unlabeled(0, 57, 24)__75seg.nii.gz , 22 , 35 , 22 , -1\\n',\n 'rtrain_unlabeled(0, 82, 7)__36seg.nii.gz , 15 , 2074 , 6 , 8\\n',\n 'rtrain_unlabeled(1, 186, 48)__83seg.nii.gz , 25 , 3 , 25 , -1\\n',\n 'rtrain_unlabeled(1, 76, 1)__56seg.nii.gz , 9 , 1829 , 4 , 4\\n',\n 'rtrain_unlabeled(1, 78, 50)__14seg.nii.gz , 27 , 10 , 27 , -1\\n',\n 'rtrain_unlabeled(10, 148, 38)__97seg.nii.gz , 29 , 3471 , 4 , 24\\n',\n 'rtrain_unlabeled(10, 157, 30)__79seg.nii.gz , 25 , 2899 , 4 , 20\\n',\n 'rtrain_unlabeled(10, 174, 56)__14seg.nii.gz , 29 , 75 , 29 , -1\\n',\n 'rtrain_unlabeled(10, 50, 1)__45seg.nii.gz , 5 , 49 , 5 , -1\\n',\n 'rtrain_unlabeled(10, 72, 8)__37seg.nii.gz , 18 , 2235 , 7 , 10\\n',\n 'rtrain_unlabeled(10, 85, 42)__40seg.nii.gz , 25 , 23 , 25 , -1\\n',\n 'rtrain_unlabeled(100, 115, 3)__42seg.nii.gz , 16 , 287 , 10 , 5\\n',\n 'rtrain_unlabeled(100, 119, 18)__16seg.nii.gz , 14 , 237 , 12 , 1\\n',\n 'rtrain_unlabeled(100, 149, 57)__34seg.nii.gz , 25 , 3 , 25 , -1\\n',\n 'rtrain_unlabeled(100, 171, 42)__66seg.nii.gz , 22 , 140 , 19 , 2\\n',\n 'rtrain_unlabeled(100, 196, 48)__51seg.nii.gz , 25 , 115 , 21 , 3\\n',\n 'rtrain_unlabeled(100, 224, 34)__33seg.nii.gz , 35 , 257 , 25 , 9\\n',\n 'rtrain_unlabeled(100, 40, 35)__44seg.nii.gz , 19 , 18 , 19 , -1\\n',\n 'rtrain_unlabeled(101, 130, 47)__18seg.nii.gz , 22 , 8 , 22 , -1\\n',\n 'rtrain_unlabeled(101, 141, 25)__50seg.nii.gz , 20 , 4013 , 9 , 10\\n',\n 'rtrain_unlabeled(101, 15, 60)__42seg.nii.gz , 33 , 367 , 15 , 17\\n',\n 'rtrain_unlabeled(101, 155, 59)__61seg.nii.gz , 30 , 1 , 30 , -1\\n',\n 'rtrain_unlabeled(101, 187, 14)__62seg.nii.gz , 38 , 1017 , 11 , 26\\n',\n 'rtrain_unlabeled(101, 213, 36)__64seg.nii.gz , 34 , 161 , 32 , 1\\n',\n 'rtrain_unlabeled(101, 41, 12)__64seg.nii.gz , 8 , 3217 , 3 , 4\\n',\n 'rtrain_unlabeled(101, 5, 5)__40seg.nii.gz , 14 , 18 , 14 , -1\\n',\n 'rtrain_unlabeled(101, 75, 36)__23seg.nii.gz , 13 , 7 , 13 , -1\\n',\n 'rtrain_unlabeled(102, 0, 16)__79seg.nii.gz , 17 , 9 , 17 , -1\\n',\n 'rtrain_unlabeled(102, 100, 41)__13seg.nii.gz , 25 , 10 , 25 , -1\\n',\n 'rtrain_unlabeled(102, 110, 3)__13seg.nii.gz , 23 , 174 , 14 , 8\\n',\n 'rtrain_unlabeled(102, 128, 4)__48seg.nii.gz , 14 , 12090 , 3 , 10\\n',\n 'rtrain_unlabeled(102, 160, 19)__76seg.nii.gz , 19 , 547 , 12 , 6\\n',\n 'rtrain_unlabeled(102, 178, 0)__94seg.nii.gz , 34 , 915 , 8 , 25\\n',\n 'rtrain_unlabeled(102, 201, 42)__22seg.nii.gz , 32 , 72 , 32 , -1\\n',\n 'rtrain_unlabeled(102, 247, 45)__36seg.nii.gz , 34 , 60 , 34 , -1\\n',\n 'rtrain_unlabeled(102, 248, 26)__33seg.nii.gz , 31 , 4 , 31 , -1\\n',\n 'rtrain_unlabeled(102, 47, 2)__13seg.nii.gz , 8 , 13 , 8 , -1\\n',\n 'rtrain_unlabeled(102, 82, 3)__51seg.nii.gz , 17 , 218 , 13 , 3\\n',\n 'rtrain_unlabeled(102, 89, 46)__36seg.nii.gz , 16 , 11 , 16 , -1\\n',\n 'rtrain_unlabeled(102, 96, 31)__91seg.nii.gz , 17 , 903 , 11 , 5\\n',\n 'rtrain_unlabeled(103, 106, 62)__57seg.nii.gz , 17 , 72 , 17 , -1\\n',\n 'rtrain_unlabeled(103, 120, 21)__95seg.nii.gz , 15 , 72 , 15 , -1\\n',\n 'rtrain_unlabeled(103, 130, 45)__61seg.nii.gz , 22 , 9 , 22 , -1\\n',\n 'rtrain_unlabeled(103, 134, 44)__9seg.nii.gz , 23 , 3 , 23 , -1\\n',\n 'rtrain_unlabeled(103, 172, 21)__89seg.nii.gz , 34 , 3 , 34 , -1\\n',\n 'rtrain_unlabeled(103, 174, 38)__37seg.nii.gz , 31 , 3 , 31 , -1\\n',\n 'rtrain_unlabeled(103, 190, 9)__87seg.nii.gz , 43 , 873 , 14 , 28\\n',\n 'rtrain_unlabeled(103, 199, 28)__7seg.nii.gz , 37 , 558 , 17 , 19\\n',\n 'rtrain_unlabeled(103, 247, 10)__52seg.nii.gz , 31 , 15 , 31 , -1\\n',\n 'rtrain_unlabeled(103, 42, 0)__44seg.nii.gz , 12 , 2 , 12 , -1\\n',\n 'rtrain_unlabeled(104, 109, 42)__52seg.nii.gz , 17 , 2 , 17 , -1\\n',\n 'rtrain_unlabeled(104, 112, 22)__26seg.nii.gz , 16 , 17 , 16 , -1\\n',\n 'rtrain_unlabeled(104, 13, 1)__81seg.nii.gz , 12 , 220 , 9 , 2\\n',\n 'rtrain_unlabeled(104, 170, 27)__39seg.nii.gz , 36 , 6 , 36 , -1\\n',\n 'rtrain_unlabeled(104, 175, 12)__8seg.nii.gz , 31 , 780 , 11 , 19\\n',\n 'rtrain_unlabeled(104, 181, 15)__18seg.nii.gz , 42 , 815 , 13 , 28\\n',\n 'rtrain_unlabeled(104, 2, 14)__33seg.nii.gz , 17 , 401 , 9 , 7\\n',\n 'rtrain_unlabeled(104, 220, 0)__49seg.nii.gz , 35 , 183 , 29 , 5\\n',\n 'rtrain_unlabeled(104, 243, 8)__41seg.nii.gz , 34 , 79 , 34 , -1\\n',\n 'rtrain_unlabeled(104, 54, 25)__25seg.nii.gz , 26 , 27 , 26 , -1\\n',\n 'rtrain_unlabeled(105, 115, 30)__68seg.nii.gz , 17 , 21 , 17 , -1\\n',\n 'rtrain_unlabeled(105, 169, 59)__31seg.nii.gz , 23 , 2 , 23 , -1\\n',\n 'rtrain_unlabeled(105, 206, 42)__61seg.nii.gz , 38 , 39 , 38 , -1\\n',\n 'rtrain_unlabeled(105, 221, 47)__54seg.nii.gz , 29 , 75 , 29 , -1\\n',\n 'rtrain_unlabeled(105, 234, 3)__99seg.nii.gz , 47 , 19 , 47 , -1\\n',\n 'rtrain_unlabeled(105, 249, 11)__91seg.nii.gz , 30 , 208 , 23 , 6\\n',\n 'rtrain_unlabeled(105, 90, 9)__21seg.nii.gz , 22 , 21 , 22 , -1\\n',\n 'rtrain_unlabeled(106, 71, 22)__67seg.nii.gz , 8 , 20 , 8 , -1\\n',\n 'rtrain_unlabeled(106, 87, 60)__26seg.nii.gz , 13 , 229 , 8 , 4\\n',\n 'rtrain_unlabeled(106, 89, 40)__72seg.nii.gz , 19 , 4 , 19 , -1\\n',\n 'rtrain_unlabeled(106, 9, 44)__80seg.nii.gz , 44 , 539 , 18 , 25\\n',\n 'rtrain_unlabeled(106, 90, 63)__72seg.nii.gz , 11 , 33 , 11 , -1\\n',\n 'rtrain_unlabeled(106, 93, 15)__40seg.nii.gz , 14 , 24 , 14 , -1\\n',\n 'rtrain_unlabeled(107, 116, 43)__51seg.nii.gz , 22 , 26 , 22 , -1\\n',\n 'rtrain_unlabeled(107, 130, 32)__22seg.nii.gz , 21 , 13 , 21 , -1\\n',\n 'rtrain_unlabeled(107, 165, 50)__26seg.nii.gz , 25 , 1 , 25 , -1\\n',\n 'rtrain_unlabeled(107, 181, 12)__60seg.nii.gz , 44 , 494 , 20 , 23\\n',\n 'rtrain_unlabeled(107, 188, 8)__79seg.nii.gz , 45 , 725 , 16 , 28\\n',\n 'rtrain_unlabeled(107, 19, 9)__96seg.nii.gz , 12 , 14 , 12 , -1\\n',\n 'rtrain_unlabeled(107, 196, 34)__37seg.nii.gz , 40 , 397 , 25 , 14\\n',\n 'rtrain_unlabeled(107, 40, 61)__33seg.nii.gz , 23 , 242 , 16 , 6\\n',\n 'rtrain_unlabeled(107, 46, 48)__11seg.nii.gz , 19 , 9 , 19 , -1\\n',\n 'rtrain_unlabeled(107, 79, 41)__32seg.nii.gz , 7 , 3250 , 3 , 3\\n',\n 'rtrain_unlabeled(108, 109, 46)__16seg.nii.gz , 20 , 1 , 20 , -1\\n',\n 'rtrain_unlabeled(108, 127, 48)__34seg.nii.gz , 28 , 53 , 28 , -1\\n',\n 'rtrain_unlabeled(108, 138, 38)__64seg.nii.gz , 28 , 42 , 28 , -1\\n',\n 'rtrain_unlabeled(108, 159, 54)__46seg.nii.gz , 30 , 56 , 30 , -1\\n',\n 'rtrain_unlabeled(108, 162, 37)__47seg.nii.gz , 23 , 11 , 23 , -1\\n',\n 'rtrain_unlabeled(108, 208, 18)__85seg.nii.gz , 47 , 19 , 47 , -1\\n',\n 'rtrain_unlabeled(108, 236, 4)__47seg.nii.gz , 44 , 78 , 44 , -1\\n',\n 'rtrain_unlabeled(108, 24, 20)__91seg.nii.gz , 16 , 1 , 16 , -1\\n',\n 'rtrain_unlabeled(108, 29, 24)__97seg.nii.gz , 19 , 1 , 19 , -1\\n',\n 'rtrain_unlabeled(108, 45, 21)__77seg.nii.gz , 22 , 1 , 22 , -1\\n',\n 'rtrain_unlabeled(108, 53, 37)__83seg.nii.gz , 13 , 5637 , 2 , 10\\n',\n 'rtrain_unlabeled(108, 6, 5)__8seg.nii.gz , 14 , 18 , 14 , -1\\n',\n 'rtrain_unlabeled(108, 61, 37)__93seg.nii.gz , 12 , 133 , 9 , 2\\n',\n 'rtrain_unlabeled(108, 74, 7)__90seg.nii.gz , 19 , 1548 , 7 , 11\\n',\n 'rtrain_unlabeled(109, 100, 44)__12seg.nii.gz , 19 , 1 , 19 , -1\\n',\n 'rtrain_unlabeled(109, 115, 3)__59seg.nii.gz , 14 , 12660 , 2 , 11\\n',\n 'rtrain_unlabeled(109, 118, 28)__82seg.nii.gz , 34 , 9 , 34 , -1\\n',\n 'rtrain_unlabeled(109, 133, 41)__88seg.nii.gz , 25 , 61 , 25 , -1\\n',\n 'rtrain_unlabeled(109, 148, 1)__24seg.nii.gz , 27 , 91 , 27 , -1\\n',\n 'rtrain_unlabeled(109, 164, 46)__98seg.nii.gz , 25 , 1 , 25 , -1\\n',\n 'rtrain_unlabeled(109, 187, 25)__8seg.nii.gz , 32 , 407 , 18 , 13\\n',\n 'rtrain_unlabeled(109, 195, 9)__91seg.nii.gz , 54 , 463 , 28 , 25\\n',\n 'rtrain_unlabeled(109, 210, 40)__82seg.nii.gz , 36 , 25 , 36 , -1\\n',\n 'rtrain_unlabeled(109, 74, 39)__23seg.nii.gz , 10 , 4954 , 4 , 5\\n',\n 'rtrain_unlabeled(109, 78, 41)__90seg.nii.gz , 8 , 5081 , 2 , 5\\n',\n 'rtrain_unlabeled(109, 80, 33)__45seg.nii.gz , 13 , 9 , 13 , -1\\n',\n 'rtrain_unlabeled(11, 109, 4)__41seg.nii.gz , 20 , 4313 , 2 , 17\\n',\n 'rtrain_unlabeled(11, 131, 3)__57seg.nii.gz , 10 , 3255 , 3 , 6\\n',\n 'rtrain_unlabeled(11, 140, 61)__22seg.nii.gz , 24 , 232 , 18 , 5\\n',\n 'rtrain_unlabeled(11, 141, 33)__22seg.nii.gz , 28 , 3636 , 5 , 22\\n',\n 'rtrain_unlabeled(11, 162, 44)__43seg.nii.gz , 33 , 2459 , 6 , 26\\n',\n 'rtrain_unlabeled(11, 163, 10)__44seg.nii.gz , 24 , 1903 , 5 , 18\\n',\n 'rtrain_unlabeled(11, 170, 20)__10seg.nii.gz , 27 , 12 , 27 , -1\\n',\n 'rtrain_unlabeled(11, 191, 63)__95seg.nii.gz , 23 , 98 , 23 , -1\\n',\n 'rtrain_unlabeled(11, 77, 59)__53seg.nii.gz , 29 , 3 , 29 , -1\\n',\n 'rtrain_unlabeled(11, 89, 52)__67seg.nii.gz , 27 , 15 , 27 , -1\\n',\n 'rtrain_unlabeled(11, 99, 29)__77seg.nii.gz , 24 , 40 , 24 , -1\\n',\n 'rtrain_unlabeled(110, 156, 3)__43seg.nii.gz , 33 , 2 , 33 , -1\\n',\n 'rtrain_unlabeled(110, 179, 9)__14seg.nii.gz , 30 , 382 , 19 , 10\\n',\n 'rtrain_unlabeled(110, 199, 43)__43seg.nii.gz , 25 , 30 , 25 , -1\\n',\n 'rtrain_unlabeled(110, 252, 31)__25seg.nii.gz , 32 , 258 , 23 , 8\\n',\n 'rtrain_unlabeled(110, 45, 0)__25seg.nii.gz , 11 , 1717 , 5 , 5\\n',\n 'rtrain_unlabeled(110, 88, 40)__95seg.nii.gz , 15 , 1 , 15 , -1\\n',\n 'rtrain_unlabeled(111, 105, 3)__31seg.nii.gz , 16 , 12727 , 2 , 13\\n',\n 'rtrain_unlabeled(111, 148, 62)__25seg.nii.gz , 25 , 4 , 25 , -1\\n',\n 'rtrain_unlabeled(111, 192, 34)__71seg.nii.gz , 34 , 275 , 27 , 6\\n',\n 'rtrain_unlabeled(111, 27, 35)__41seg.nii.gz , 22 , 2 , 22 , -1\\n',\n 'rtrain_unlabeled(111, 32, 17)__63seg.nii.gz , 11 , 2 , 11 , -1\\n',\n 'rtrain_unlabeled(111, 7, 19)__87seg.nii.gz , 33 , 4 , 33 , -1\\n',\n 'rtrain_unlabeled(111, 82, 59)__46seg.nii.gz , 11 , 328 , 6 , 4\\n',\n 'rtrain_unlabeled(111, 90, 63)__62seg.nii.gz , 17 , 2 , 17 , -1\\n',\n 'rtrain_unlabeled(112, 126, 31)__83seg.nii.gz , 17 , 392 , 12 , 4\\n',\n 'rtrain_unlabeled(112, 132, 63)__83seg.nii.gz , 23 , 55 , 23 , -1\\n',\n 'rtrain_unlabeled(112, 141, 30)__94seg.nii.gz , 27 , 439 , 17 , 9\\n',\n 'rtrain_unlabeled(112, 145, 53)__28seg.nii.gz , 25 , 1 , 25 , -1\\n',\n 'rtrain_unlabeled(112, 186, 49)__48seg.nii.gz , 28 , 33 , 28 , -1\\n',\n 'rtrain_unlabeled(112, 188, 61)__98seg.nii.gz , 12 , 6 , 12 , -1\\n',\n 'rtrain_unlabeled(112, 221, 46)__55seg.nii.gz , 31 , 14 , 31 , -1\\n',\n 'rtrain_unlabeled(112, 30, 56)__55seg.nii.gz , 18 , 368 , 13 , 4\\n',\n 'rtrain_unlabeled(112, 56, 15)__98seg.nii.gz , 13 , 4028 , 4 , 8\\n',\n 'rtrain_unlabeled(112, 72, 13)__40seg.nii.gz , 19 , 906 , 8 , 10\\n',\n 'rtrain_unlabeled(112, 82, 58)__98seg.nii.gz , 14 , 334 , 9 , 4\\n',\n 'rtrain_unlabeled(112, 95, 54)__92seg.nii.gz , 16 , 56 , 16 , -1\\n',\n 'rtrain_unlabeled(113, 150, 45)__92seg.nii.gz , 22 , 54 , 22 , -1\\n',\n 'rtrain_unlabeled(113, 202, 34)__68seg.nii.gz , 26 , 103 , 23 , 2\\n',\n 'rtrain_unlabeled(113, 231, 47)__10seg.nii.gz , 28 , 22 , 28 , -1\\n',\n 'rtrain_unlabeled(113, 24, 23)__10seg.nii.gz , 19 , 2805 , 5 , 13\\n',\n 'rtrain_unlabeled(113, 34, 7)__60seg.nii.gz , 13 , 2032 , 4 , 8\\n',\n 'rtrain_unlabeled(113, 40, 37)__73seg.nii.gz , 15 , 4743 , 2 , 12\\n',\n 'rtrain_unlabeled(113, 52, 28)__67seg.nii.gz , 15 , 5203 , 2 , 12\\n',\n 'rtrain_unlabeled(113, 7, 28)__90seg.nii.gz , 29 , 447 , 13 , 15\\n',\n 'rtrain_unlabeled(113, 80, 41)__54seg.nii.gz , 7 , 5027 , 2 , 4\\n',\n 'rtrain_unlabeled(113, 98, 63)__47seg.nii.gz , 19 , 52 , 19 , -1\\n',\n 'rtrain_unlabeled(114, 194, 59)__67seg.nii.gz , 16 , 4 , 16 , -1\\n',\n 'rtrain_unlabeled(114, 214, 15)__77seg.nii.gz , 44 , 79 , 44 , -1\\n',\n 'rtrain_unlabeled(114, 22, 45)__65seg.nii.gz , 28 , 2697 , 8 , 19\\n',\n 'rtrain_unlabeled(114, 221, 21)__62seg.nii.gz , 33 , 72 , 33 , -1\\n',\n 'rtrain_unlabeled(114, 27, 3)__31seg.nii.gz , 8 , 1285 , 5 , 2\\n',\n 'rtrain_unlabeled(114, 46, 20)__99seg.nii.gz , 10 , 4189 , 2 , 7\\n',\n 'rtrain_unlabeled(114, 51, 56)__74seg.nii.gz , 12 , 199 , 12 , -1\\n',\n 'rtrain_unlabeled(114, 86, 40)__25seg.nii.gz , 16 , 246 , 10 , 5\\n',\n 'rtrain_unlabeled(114, 89, 48)__87seg.nii.gz , 19 , 7 , 19 , -1\\n',\n 'rtrain_unlabeled(115, 108, 5)__54seg.nii.gz , 18 , 652 , 12 , 5\\n',\n 'rtrain_unlabeled(115, 169, 11)__58seg.nii.gz , 39 , 36 , 39 , -1\\n',\n 'rtrain_unlabeled(115, 180, 49)__71seg.nii.gz , 19 , 3 , 19 , -1\\n',\n 'rtrain_unlabeled(115, 183, 60)__51seg.nii.gz , 16 , 4 , 16 , -1\\n',\n 'rtrain_unlabeled(115, 187, 30)__53seg.nii.gz , 30 , 62 , 30 , -1\\n',\n 'rtrain_unlabeled(115, 197, 22)__45seg.nii.gz , 43 , 141 , 32 , 10\\n',\n 'rtrain_unlabeled(115, 22, 33)__87seg.nii.gz , 25 , 189 , 18 , 6\\n',\n 'rtrain_unlabeled(115, 235, 30)__85seg.nii.gz , 39 , 1 , 39 , -1\\n',\n 'rtrain_unlabeled(115, 4, 63)__96seg.nii.gz , 28 , 240 , 20 , 7\\n',\n 'rtrain_unlabeled(115, 47, 9)__79seg.nii.gz , 15 , 97 , 15 , -1\\n',\n 'rtrain_unlabeled(115, 5, 9)__36seg.nii.gz , 15 , 168 , 12 , 2\\n',\n 'rtrain_unlabeled(115, 87, 3)__31seg.nii.gz , 18 , 803 , 10 , 7\\n',\n 'rtrain_unlabeled(115, 97, 62)__21seg.nii.gz , 14 , 4 , 14 , -1\\n',\n 'rtrain_unlabeled(116, 150, 7)__14seg.nii.gz , 30 , 3210 , 4 , 25\\n',\n 'rtrain_unlabeled(116, 152, 62)__45seg.nii.gz , 21 , 17 , 21 , -1\\n',\n 'rtrain_unlabeled(116, 155, 1)__35seg.nii.gz , 28 , 3799 , 4 , 23\\n',\n 'rtrain_unlabeled(116, 165, 12)__46seg.nii.gz , 34 , 26 , 34 , -1\\n',\n 'rtrain_unlabeled(116, 212, 31)__74seg.nii.gz , 33 , 6 , 33 , -1\\n',\n 'rtrain_unlabeled(116, 216, 38)__38seg.nii.gz , 34 , 8 , 34 , -1\\n',\n 'rtrain_unlabeled(116, 6, 24)__8seg.nii.gz , 25 , 197 , 21 , 3\\n',\n 'rtrain_unlabeled(116, 77, 15)__74seg.nii.gz , 18 , 446 , 11 , 6\\n',\n 'rtrain_unlabeled(116, 85, 46)__17seg.nii.gz , 15 , 262 , 12 , 2\\n',\n 'rtrain_unlabeled(116, 99, 62)__26seg.nii.gz , 19 , 2 , 19 , -1\\n',\n 'rtrain_unlabeled(117, 10, 47)__26seg.nii.gz , 46 , 168 , 35 , 10\\n',\n 'rtrain_unlabeled(117, 102, 6)__82seg.nii.gz , 17 , 356 , 13 , 3\\n',\n 'rtrain_unlabeled(117, 110, 51)__85seg.nii.gz , 15 , 9 , 15 , -1\\n',\n 'rtrain_unlabeled(117, 123, 56)__27seg.nii.gz , 19 , 3 , 19 , -1\\n',\n 'rtrain_unlabeled(117, 131, 16)__29seg.nii.gz , 17 , 204 , 14 , 2\\n',\n 'rtrain_unlabeled(117, 142, 25)__94seg.nii.gz , 17 , 18 , 17 , -1\\n',\n 'rtrain_unlabeled(117, 148, 25)__34seg.nii.gz , 26 , 1254 , 9 , 16\\n',\n 'rtrain_unlabeled(117, 164, 55)__18seg.nii.gz , 26 , 24 , 26 , -1\\n',\n 'rtrain_unlabeled(117, 170, 0)__67seg.nii.gz , 37 , 155 , 32 , 4\\n',\n 'rtrain_unlabeled(117, 190, 61)__85seg.nii.gz , 13 , 8 , 13 , -1\\n',\n 'rtrain_unlabeled(117, 20, 58)__92seg.nii.gz , 34 , 194 , 26 , 7\\n',\n 'rtrain_unlabeled(117, 202, 27)__46seg.nii.gz , 33 , 4 , 33 , -1\\n',\n 'rtrain_unlabeled(117, 29, 38)__7seg.nii.gz , 21 , 145 , 18 , 2\\n',\n 'rtrain_unlabeled(117, 77, 41)__54seg.nii.gz , 6 , 3376 , 3 , 2\\n',\n 'rtrain_unlabeled(117, 80, 52)__49seg.nii.gz , 12 , 3194 , 4 , 7\\n',\n 'rtrain_unlabeled(117, 97, 63)__53seg.nii.gz , 20 , 10 , 20 , -1\\n']"
     },
     "execution_count": 9,
     "metadata": {},
     "output_type": "execute_result"
    }
   ],
   "source": [
    "image_list  class0,class1,class2,class3,class4: 374 765 29 119 213\n"
   ],
   "metadata": {
    "collapsed": false,
    "pycharm": {
     "name": "#%%\n"
    }
   }
  },
  {
   "cell_type": "code",
   "execution_count": 19,
   "outputs": [],
   "source": [
    "arr=np.load(r'E:\\SSL_zengxq\\train_label_(64, 64, 0)__0gt.npy')\n",
    "arr=np.array(arr,dtype='float32')\n",
    "# 创建NIfTI文件\n",
    "nifti_label = nib.Nifti1Image(arr, np.eye(4))\n",
    "nib.save(nifti_label, r'E:\\SSL_zengxq\\train_label_(64, 64, 0)__0gt.nii.gz')"
   ],
   "metadata": {
    "collapsed": false,
    "pycharm": {
     "name": "#%%\n"
    }
   }
  },
  {
   "cell_type": "code",
   "execution_count": 24,
   "outputs": [],
   "source": [
    "from PIL import Image\n",
    "data=nib.load(r'E:\\recente_net\\airway\\ok_Airway1.nii.gz')\n",
    "data_arr=data.get_fdata()\n",
    "img=data_arr[:,:,149]\n",
    "img=img.swapaxes(0, 1)\n",
    "# norimg=nib.Nifti1Image(img, np.eye(4))\n",
    "# nib.save(norimg,r'E:\\recente_net\\airway\\vessel1.nii.gz')\n",
    "plt.imsave(r'E:\\recente_net\\airway\\airway1.png', img, cmap='gray')\n",
    "# imga = Image.fromarray(img)\n",
    "#\n",
    "# # 保存为 PNG 文件\n",
    "# imga.save(r'E:\\recente_net\\airway\\vessel.png')"
   ],
   "metadata": {
    "collapsed": false,
    "pycharm": {
     "name": "#%%\n"
    }
   }
  },
  {
   "cell_type": "code",
   "execution_count": 6,
   "outputs": [
    {
     "name": "stdout",
     "output_type": "stream",
     "text": [
      "0 [2, 2, 2, 3]\n",
      "1 [2, 2, 2, 3]\n"
     ]
    }
   ],
   "source": [
    "nums=[3,2,2,3]\n",
    "val=3\n",
    "s=0\n",
    "for f in range (len(nums)):\n",
    "    if nums[f]!=val:\n",
    "        nums[s]=nums[f]\n",
    "        # nums[i]=nums[i+1]\n",
    "        # print('n is :',n)\n",
    "# return len(nums)-n\n",
    "        print(s,nums)\n",
    "        s=s+1\n"
   ],
   "metadata": {
    "collapsed": false,
    "pycharm": {
     "name": "#%%\n"
    }
   }
  },
  {
   "cell_type": "code",
   "execution_count": 12,
   "outputs": [
    {
     "data": {
      "text/plain": "2"
     },
     "execution_count": 12,
     "metadata": {},
     "output_type": "execute_result"
    }
   ],
   "source": [
    "list=[4, 3, 4, 5, 2, 3, 4, 5, 6]\n",
    "min(list)"
   ],
   "metadata": {
    "collapsed": false,
    "pycharm": {
     "name": "#%%\n"
    }
   }
  },
  {
   "cell_type": "code",
   "execution_count": 11,
   "outputs": [
    {
     "name": "stdout",
     "output_type": "stream",
     "text": [
      "5\n",
      "4\n",
      "3\n",
      "2\n",
      "1\n",
      "0\n"
     ]
    }
   ],
   "source": [
    "for i in range(5,-1,-1):\n",
    "    print(i)"
   ],
   "metadata": {
    "collapsed": false,
    "pycharm": {
     "name": "#%%\n"
    }
   }
  },
  {
   "cell_type": "code",
   "execution_count": 1,
   "outputs": [
    {
     "data": {
      "text/plain": "2.5"
     },
     "execution_count": 1,
     "metadata": {},
     "output_type": "execute_result"
    }
   ],
   "source": [
    "5/2"
   ],
   "metadata": {
    "collapsed": false,
    "pycharm": {
     "name": "#%%\n"
    }
   }
  },
  {
   "cell_type": "code",
   "execution_count": 9,
   "outputs": [],
   "source": [
    "class Node:\n",
    "\tdef __init__(self, data, next=None):\n",
    "\t\tself.data = data\n",
    "\t\tself.next = next\n"
   ],
   "metadata": {
    "collapsed": false,
    "pycharm": {
     "name": "#%%\n"
    }
   }
  },
  {
   "cell_type": "code",
   "execution_count": 12,
   "outputs": [
    {
     "name": "stdout",
     "output_type": "stream",
     "text": [
      "25\n"
     ]
    }
   ],
   "source": [
    "node1=Node(1)\n",
    "node2=Node(4)\n",
    "node3=Node(9)\n",
    "node4=Node(16)\n",
    "node5=Node(25)\n",
    "# node5.data.\n",
    "node1.next = node2\n",
    "node2.next = node3\n",
    "node3.next = node4\n",
    "node4.next = node5\n",
    "print(node5.data)\n"
   ],
   "metadata": {
    "collapsed": false,
    "pycharm": {
     "name": "#%%\n"
    }
   }
  },
  {
   "cell_type": "code",
   "execution_count": 12,
   "outputs": [
    {
     "name": "stdout",
     "output_type": "stream",
     "text": [
      "(704, 704)\n"
     ]
    },
    {
     "data": {
      "text/plain": "<Figure size 432x288 with 1 Axes>",
      "image/png": "[encoded data removed]"
     },
     "metadata": {
      "needs_background": "light"
     },
     "output_type": "display_data"
    }
   ],
   "source": [
    "label_arr=np.load(r'E:\\Challenges2023\\XunFei\\oct\\基于医学影像的冠状动脉血管及斑块三维重建挑战赛公开数据\\train\\labels\\IMG001-img-00001-00033.npy')\n",
    "print(label_arr.shape)\n",
    "import matplotlib.pyplot as plt\n",
    "plt.imshow(label_arr)\n",
    "plt.show()\n",
    "# label_arr=np.array(label_arr,dtype=)\n",
    "# plt.show()\n",
    "# label_arr=np.argmax(label_arr,axis=3)"
   ],
   "metadata": {
    "collapsed": false,
    "pycharm": {
     "name": "#%%\n"
    }
   }
  },
  {
   "cell_type": "markdown",
   "source": [
    "链表\n"
   ],
   "metadata": {
    "collapsed": false,
    "pycharm": {
     "name": "#%% md\n"
    }
   }
  },
  {
   "cell_type": "code",
   "execution_count": 1,
   "outputs": [],
   "source": [
    "class ListNode:\n",
    "    def __init__(self, val=0, next=None):\n",
    "        self.val = val\n",
    "        self.next = next"
   ],
   "metadata": {
    "collapsed": false,
    "pycharm": {
     "name": "#%%\n"
    }
   }
  },
  {
   "cell_type": "code",
   "execution_count": 15,
   "outputs": [
    {
     "name": "stdout",
     "output_type": "stream",
     "text": [
      "0\n",
      "1\n",
      "2\n",
      "3\n",
      "4\n",
      "5\n",
      "6\n",
      "7\n",
      "8\n",
      "9\n"
     ]
    }
   ],
   "source": [
    "a=[9,6,3,8,5,2,7,4,1,0]\n",
    "for i in range(len(a)):\n",
    "    # ListNodeAA=ListNode.next(i)\n",
    "    ListNode.next=i\n",
    "    ListNode.val=a[i]\n",
    "    # print(i,a[i],ListNode.val)\n",
    "    print(ListNode.next)\n",
    "# print(ListNode.size)\n"
   ],
   "metadata": {
    "collapsed": false,
    "pycharm": {
     "name": "#%%\n"
    }
   }
  },
  {
   "cell_type": "code",
   "execution_count": 13,
   "outputs": [],
   "source": [],
   "metadata": {
    "collapsed": false,
    "pycharm": {
     "name": "#%%\n"
    }
   }
  },
  {
   "cell_type": "code",
   "execution_count": 26,
   "outputs": [
    {
     "name": "stdout",
     "output_type": "stream",
     "text": [
      "(1, 2, 3) (2, 3) (3, 2, 3)\n"
     ]
    }
   ],
   "source": [
    "import numpy as np\n",
    "\n",
    "# 创建两个示例数组\n",
    "arr1 = np.array([[1, 2, 3],[3,2,1]])\n",
    "arr2 = np.array([[4, 5, 6],[6,5,4]])\n",
    "arr3 = np.array([[4, 5, 6],[6,5,4]])\n",
    "\n",
    "# 在0维度拼接数组\n",
    "arr11=np.expand_dims(arr1,axis=0)\n",
    "arr22=np.expand_dims(arr2,axis=0)\n",
    "arr33=np.expand_dims(arr3,axis=0)\n",
    "\n",
    "result = np.concatenate((arr11, arr22,arr33), axis=0)\n",
    "# arr11=np.expand_dims(arr1,axis=0)\n",
    "print(arr11.shape,arr2.shape,result.shape)"
   ],
   "metadata": {
    "collapsed": false,
    "pycharm": {
     "name": "#%%\n"
    }
   }
  },
  {
   "cell_type": "code",
   "execution_count": 29,
   "outputs": [],
   "source": [
    "import sys\n",
    "\n",
    "for line in sys.stdin:\n",
    "    a, b = line.split(' ')\n",
    "    print(int(a) + int(b))"
   ],
   "metadata": {
    "collapsed": false,
    "pycharm": {
     "name": "#%%\n"
    }
   }
  },
  {
   "cell_type": "code",
   "execution_count": 31,
   "outputs": [
    {
     "name": "stdout",
     "output_type": "stream",
     "text": [
      "ab\n"
     ]
    }
   ],
   "source": [
    "\n",
    "a='a'\n",
    "b='b'\n",
    "print(a+b)\n",
    "# print(int(a)+int(b))"
   ],
   "metadata": {
    "collapsed": false,
    "pycharm": {
     "name": "#%%\n"
    }
   }
  },
  {
   "cell_type": "code",
   "execution_count": null,
   "outputs": [],
   "source": [],
   "metadata": {
    "collapsed": false,
    "pycharm": {
     "name": "#%%\n"
    }
   }
  }
 ],
 "metadata": {
  "kernelspec": {
   "display_name": "Python 3 (ipykernel)",
   "language": "python",
   "name": "python3"
  },
  "language_info": {
   "codemirror_mode": {
    "name": "ipython",
    "version": 3
   },
   "file_extension": ".py",
   "mimetype": "text/x-python",
   "name": "python",
   "nbconvert_exporter": "python",
   "pygments_lexer": "ipython3",
   "version": "3.9.12"
  }
 },
 "nbformat": 4,
 "nbformat_minor": 1
}